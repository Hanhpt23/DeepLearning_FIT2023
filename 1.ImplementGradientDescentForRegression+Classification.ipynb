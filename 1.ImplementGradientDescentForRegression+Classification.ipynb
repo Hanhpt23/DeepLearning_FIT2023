{
  "nbformat": 4,
  "nbformat_minor": 0,
  "metadata": {
    "colab": {
      "provenance": [],
      "collapsed_sections": [
        "AL7LdLq0w7-m",
        "St91Qp_tZWoX",
        "Ftu3Y1I0ZUOR",
        "THTdupPbc-OD",
        "-Uj2BaC7jK-Z",
        "lYlzGjc7bcb6",
        "h8CV0fKo0Cww",
        "mIJwWPC9a_Kh",
        "DkKNLtUm1Ogu",
        "9T13g_c_1XgV",
        "aERVwGhWsQys",
        "PuJbqQ94SYGT",
        "kagdpsSz6qYL",
        "xshXeCFxck9T",
        "8CPccA4B562E",
        "bVKGFHO-vwDn",
        "0-yaUco1vmqF",
        "LUzTBeLK6CgM"
      ],
      "gpuType": "T4",
      "authorship_tag": "ABX9TyO5s+bPAFS1jnXUOklk6FtX",
      "include_colab_link": true
    },
    "kernelspec": {
      "name": "python3",
      "display_name": "Python 3"
    },
    "language_info": {
      "name": "python"
    },
    "accelerator": "GPU"
  },
  "cells": [
    {
      "cell_type": "markdown",
      "metadata": {
        "id": "view-in-github",
        "colab_type": "text"
      },
      "source": [
        "<a href=\"https://colab.research.google.com/github/Hanhpt23/DeepLearning_FIT2023/blob/main/1.ImplementGradientDescentForRegression%2BClassification.ipynb\" target=\"_parent\"><img src=\"https://colab.research.google.com/assets/colab-badge.svg\" alt=\"Open In Colab\"/></a>"
      ]
    },
    {
      "cell_type": "markdown",
      "source": [
        "#Contents:\n",
        "1. Implement numerical Gradient Descent (GD) from scratch\n",
        "2. Implement explicit GD from the [Least Squares](https://en.wikipedia.org/wiki/Least_squares) loss function\n",
        "3. Implement 3 variants of the each GD\n",
        "4. Building the model using the GD for linear regression following the [Sklearn](https://scikit-learn.org/stable/)'s style\n",
        "5. Building a model using the GD for binary classification\n",
        "6. Buidling a model using the GD for mutil-class classification\n",
        "7. Test the model on the [MNIST](https://scikit-learn.org/stable/auto_examples/classification/plot_digits_classification.html) dataset"
      ],
      "metadata": {
        "id": "HYwZWNUtbjuW"
      }
    },
    {
      "cell_type": "markdown",
      "source": [
        "#Import necessary packages and libraries (numpy and sklearn)"
      ],
      "metadata": {
        "id": "AL7LdLq0w7-m"
      }
    },
    {
      "cell_type": "code",
      "execution_count": null,
      "metadata": {
        "id": "C2bWljFOAgXI"
      },
      "outputs": [],
      "source": [
        "import numpy as np\n",
        "from sklearn.metrics import mean_squared_error\n",
        "from sklearn.metrics import mean_absolute_error\n",
        "from sklearn.metrics import r2_score\n",
        "from sklearn.model_selection import train_test_split\n",
        "from sklearn.preprocessing import normalize\n",
        "from sklearn.preprocessing import scale\n",
        "import matplotlib.pyplot as plt\n",
        "import pandas as pd\n",
        "import time\n",
        "\n",
        "# increase the width of boxes in the notebook file (this is only cosmetic)\n",
        "np.set_printoptions(linewidth=180)"
      ]
    },
    {
      "cell_type": "markdown",
      "source": [
        "# Problem 1 Gradient Descent"
      ],
      "metadata": {
        "id": "0ndJze8BeEBW"
      }
    },
    {
      "cell_type": "markdown",
      "source": [
        "## 1. Gradient descent with an option to use the explicit gradient formula of a loss function"
      ],
      "metadata": {
        "id": "St91Qp_tZWoX"
      }
    },
    {
      "cell_type": "markdown",
      "source": [
        "Implementing numerical gradient descent and explicit gradient descent"
      ],
      "metadata": {
        "id": "Xg0krHb4ZmIA"
      }
    },
    {
      "cell_type": "code",
      "source": [
        "# estimate the gradient\n",
        "def computeGradient(f, x, h):\n",
        "    n = len(x)\n",
        "    gradient = np.zeros(n)\n",
        "\n",
        "    for counter in range(n):\n",
        "        xUp = x.copy()\n",
        "        xUp[counter] += h\n",
        "        gradient[counter] = (f(xUp) - f(x))/h\n",
        "\n",
        "    return gradient\n",
        "\n",
        "# Explicit gradient\n",
        "def compute_explicit_gradient(X, y, w):\n",
        "    # Calculate the gradient of the function with respect to w\n",
        "    gradient = 2 * np.dot(X.T, (np.dot(X, w) - y))\n",
        "    theta = np.linalg.inv(X.T@X)@X.T@y\n",
        "    return gradient"
      ],
      "metadata": {
        "id": "98xJzin5AjhA"
      },
      "execution_count": null,
      "outputs": []
    },
    {
      "cell_type": "markdown",
      "source": [
        "Test output from the two gradient methods"
      ],
      "metadata": {
        "id": "u2LXKXKxXSrN"
      }
    },
    {
      "cell_type": "code",
      "source": [
        "X = np.array([[6], [7], [8], [9], [7] ])\n",
        "y = np.array([1, 2, 3, 3, 4])\n",
        "x0 = [0, 0]\n",
        "X = np.hstack((np.ones([X.shape[0], 1]), X))\n",
        "L = lambda w: ((X @ w).T - y.T) @ (X @ w - y)\n",
        "\n",
        "# test numerical gradient\n",
        "gradient_num = computeGradient(L, x0, 0.001)\n",
        "\n",
        "# test explicit gradient\n",
        "gradient_exp = compute_explicit_gradient(X, y, x0)\n",
        "print('Numerical gradient: ', gradient_num, '\\n',\n",
        "      'Explicit gradient: ', gradient_exp)\n",
        "\n"
      ],
      "metadata": {
        "colab": {
          "base_uri": "https://localhost:8080/"
        },
        "id": "ZI7tI2lpXOh0",
        "outputId": "2d5cec9a-3b42-4987-8882-f591a1fb59b9"
      },
      "execution_count": null,
      "outputs": [
        {
          "output_type": "stream",
          "name": "stdout",
          "text": [
            "Numerical gradient:  [ -25.995 -197.721] \n",
            " Explicit gradient:  [ -26. -198.]\n"
          ]
        }
      ]
    },
    {
      "cell_type": "markdown",
      "source": [
        "Optimizing parameters from gradients using two method by declare that\n",
        "\n",
        "use_explicit_gradient = True or False"
      ],
      "metadata": {
        "id": "x8Nq0QQYXdl6"
      }
    },
    {
      "cell_type": "code",
      "source": [
        "# run gradient descent and output the coordinates of the estimated critical point\n",
        "def gradientDescent(f, y, x0, alpha, h, tolerance, maxIterations, use_explicit_gradient = False):\n",
        "    # set x equal to the initial guess\n",
        "    x = x0\n",
        "\n",
        "    # take up to maxIterations number of steps\n",
        "    for counter in range(maxIterations):\n",
        "        # choosing gradient method\n",
        "        if use_explicit_gradient:\n",
        "          gradient = compute_explicit_gradient(X, y, x)\n",
        "        else:\n",
        "          gradient = computeGradient(f, x, h)\n",
        "\n",
        "        # stop if the norm of the gradient is near 0 (success)\n",
        "        if np.linalg.norm(gradient) < tolerance:\n",
        "            print('Gradient descent took', counter, 'iterations to converge')\n",
        "            # print('The norm of the gradient is', np.linalg.norm(gradient))\n",
        "\n",
        "            # return the approximate critical point x\n",
        "            return x\n",
        "\n",
        "        # print a message if we do not converge (failure)\n",
        "        elif counter == maxIterations-1:\n",
        "            print(\"Gradient descent failed\")\n",
        "            # print('The gradient is', gradient)\n",
        "\n",
        "            # return x, sometimes it is still pretty good\n",
        "            return x\n",
        "\n",
        "        # take a step in the opposite direction as the gradient\n",
        "        x -= alpha*gradient"
      ],
      "metadata": {
        "id": "JVq9me8eBRzg"
      },
      "execution_count": null,
      "outputs": []
    },
    {
      "cell_type": "markdown",
      "source": [
        "Test converenge of the model using the numerical gradient\n"
      ],
      "metadata": {
        "id": "E4VIdS5RZz9x"
      }
    },
    {
      "cell_type": "code",
      "source": [
        "X = np.array([[6], [7], [8], [9], [7] ])\n",
        "y = np.array([1, 2, 3, 3, 4])\n",
        "x0 = [0, 0]\n",
        "X = np.hstack((np.ones([X.shape[0], 1]), X))\n",
        "L = lambda w: ((X @ w).T - y.T) @ (X @ w - y)\n",
        "\n",
        "# numerical gradient\n",
        "x_params = gradientDescent(L, y, x0, alpha = 0.001, h = 0.001, tolerance = 0.01, maxIterations = 10000000, use_explicit_gradient = False)\n",
        "print('x_params', x_params)\n",
        "print('Prediction y_hat using numerical gradient: \\n', X@x_params)\n",
        "print(f'Loss of the prediction value is {((y-X@x_params)**2).sum(axis =0)}')"
      ],
      "metadata": {
        "colab": {
          "base_uri": "https://localhost:8080/"
        },
        "id": "oXdMKA00A6ax",
        "outputId": "d65f6402-eafc-4b36-a918-94c961e857b2"
      },
      "execution_count": null,
      "outputs": [
        {
          "output_type": "stream",
          "name": "stdout",
          "text": [
            "Gradient descent took 17180 iterations to converge\n",
            "x_params [-1.15880201  0.5080126 ]\n",
            "Prediction y_hat using numerical gradient: \n",
            " [1.88927362 2.39728623 2.90529883 3.41331144 2.39728623]\n",
            "Loss of the prediction value is 3.697130014379029\n"
          ]
        }
      ]
    },
    {
      "cell_type": "markdown",
      "source": [
        "Test converenge of the model using the explicit gradient"
      ],
      "metadata": {
        "id": "NaIq5txh4vb7"
      }
    },
    {
      "cell_type": "code",
      "source": [
        "# explicit gradient\n",
        "x_params = gradientDescent(L, y, x0, alpha = 0.001, h = 0.001, tolerance = 0.01, maxIterations = 100000, use_explicit_gradient = True)\n",
        "print('x_params', x_params)\n",
        "print('Prediction y_hat using explicit gradient: \\n', X@x_params)\n",
        "print(f'Loss of the prediction value is {((y-X@x_params)**2).sum(axis =0)}')"
      ],
      "metadata": {
        "colab": {
          "base_uri": "https://localhost:8080/"
        },
        "id": "c1OiZvKqS_Za",
        "outputId": "99e4184e-9fd7-4853-d6a0-d3e52ed26611"
      },
      "execution_count": null,
      "outputs": [
        {
          "output_type": "stream",
          "name": "stdout",
          "text": [
            "Gradient descent took 17878 iterations to converge\n",
            "x_params [-1.33049327  0.5312817 ]\n",
            "Prediction y_hat using explicit gradient: \n",
            " [1.85719691 2.38847861 2.91976031 3.451042   2.38847861]\n",
            "Loss of the prediction value is 3.6925806662475953\n"
          ]
        }
      ]
    },
    {
      "cell_type": "markdown",
      "source": [
        "## 2. Choosing n random starting points and output the parameters resulting in minimum training loss across all the runs."
      ],
      "metadata": {
        "id": "Ftu3Y1I0ZUOR"
      }
    },
    {
      "cell_type": "code",
      "source": [
        "def run_optimization(num_points, f, y, alpha, h, tolerance, maxIterations, explicit = True):\n",
        "    best_params = None\n",
        "    best_loss = float('inf')\n",
        "\n",
        "    for _ in range(num_points):\n",
        "        # Generate a random starting point\n",
        "        initial_theta = np.random.rand(2)  # Assuming 2 parameters (x and y)\n",
        "        print('Initial starting points: ', initial_theta )\n",
        "\n",
        "        # Perform gradient descent\n",
        "        optimized_theta = gradientDescent(f, y, initial_theta, alpha, h, tolerance, maxIterations,  use_explicit_gradient = explicit)\n",
        "\n",
        "        # Calculate the loss for the optimized parameters\n",
        "        current_loss = f(optimized_theta)\n",
        "\n",
        "        # Check if this run has the lowest loss so far\n",
        "        if current_loss < best_loss:\n",
        "            best_loss = current_loss\n",
        "            best_params = optimized_theta\n",
        "\n",
        "    return best_params, best_loss"
      ],
      "metadata": {
        "id": "YT42tds-ZRrI"
      },
      "execution_count": null,
      "outputs": []
    },
    {
      "cell_type": "markdown",
      "source": [
        "Test model"
      ],
      "metadata": {
        "id": "1Yn0Apnc43j2"
      }
    },
    {
      "cell_type": "code",
      "source": [
        "best_params, best_loss = run_optimization(num_points = 2, f = L, y = y, alpha = 0.001, h = 0.001, tolerance = 0.01, maxIterations = 10000000)\n",
        "print(f'best_params {best_params} with the loss of {best_loss}')"
      ],
      "metadata": {
        "colab": {
          "base_uri": "https://localhost:8080/"
        },
        "id": "yc9TSvrVa8m4",
        "outputId": "6bbc2866-3949-4a05-fc20-cc827cf4b8a1"
      },
      "execution_count": null,
      "outputs": [
        {
          "output_type": "stream",
          "name": "stdout",
          "text": [
            "Initial starting points:  [0.00691004 0.74718517]\n",
            "Gradient descent took 17521 iterations to converge\n",
            "Initial starting points:  [0.45673406 0.17185419]\n",
            "Gradient descent took 19302 iterations to converge\n",
            "best_params [-1.33049495  0.53128192] with the loss of 3.6925806493106315\n"
          ]
        }
      ]
    },
    {
      "cell_type": "markdown",
      "source": [
        "## 3. Write a version with a cyclic learning rate that changes in each training epoch and saves the model parameters every time the learning rate vanishes. Then, select the best parameters observed."
      ],
      "metadata": {
        "id": "THTdupPbc-OD"
      }
    },
    {
      "cell_type": "code",
      "source": [
        "def gradient_descent_lrSchedual(num_epochs, num_points, f, y, x0, alpha, h, tolerance, maxIterations):\n",
        "    # Gradient Descent optimization algorithm with cyclic learning rate.\n",
        "    x = x0\n",
        "    best_params = None\n",
        "    best_loss = float('inf')\n",
        "\n",
        "    for epoch in range(num_epochs):\n",
        "        learning_rate = alpha / (epoch + 1) # reduce learning rate for every epoch\n",
        "        print('Epoch ', epoch)\n",
        "\n",
        "        # x = gradientDescent(f, y, x0, learning_rate, h, tolerance, maxIterations,  use_explicit_gradient = True)\n",
        "        x, loss = run_optimization(num_points, f, y, alpha, h, tolerance, maxIterations, explicit = True)\n",
        "\n",
        "        # Save parameters every time the learning rate vanishes\n",
        "        np.savetxt(f\"model_parameters_epoch_{epoch}.txt\", x)\n",
        "\n",
        "        # Calculate the loss for the optimized parameters\n",
        "        current_loss = loss\n",
        "\n",
        "        # Check if this run has the lowest loss so far\n",
        "        if current_loss < best_loss:\n",
        "            best_loss = current_loss\n",
        "            best_params = x\n",
        "            best_epoch = epoch\n",
        "\n",
        "    print('Finding the best parameters at the epoch of ', best_epoch)\n",
        "\n",
        "    return best_params, best_loss\n"
      ],
      "metadata": {
        "id": "2vLqbFmUc_EL"
      },
      "execution_count": null,
      "outputs": []
    },
    {
      "cell_type": "markdown",
      "source": [
        "Test model"
      ],
      "metadata": {
        "id": "-DGz2aow4-wl"
      }
    },
    {
      "cell_type": "code",
      "source": [
        "num_epochs = 3\n",
        "num_points = 2 # sets initial values\n",
        "best_params, best_loss = gradient_descent_lrSchedual(num_epochs, num_points, f = L, y= y, x0 = x0, alpha = 0.001, h = 0.001, tolerance = 0.01, maxIterations = 10000000)\n",
        "\n",
        "print(\"Best Parameters:\", best_params)\n",
        "print(\"Best Loss:\", best_loss)"
      ],
      "metadata": {
        "colab": {
          "base_uri": "https://localhost:8080/"
        },
        "id": "cL-Vz7a3dMCU",
        "outputId": "bededb5a-4993-4070-acaf-6c54e9f0a689"
      },
      "execution_count": null,
      "outputs": [
        {
          "output_type": "stream",
          "name": "stdout",
          "text": [
            "Epoch  0\n",
            "Initial starting points:  [0.1962297  0.19137485]\n",
            "Gradient descent took 18484 iterations to converge\n",
            "Initial starting points:  [0.90674916 0.62421733]\n",
            "Gradient descent took 20327 iterations to converge\n",
            "Epoch  1\n",
            "Initial starting points:  [0.73180306 0.38438901]\n",
            "Gradient descent took 19973 iterations to converge\n",
            "Initial starting points:  [0.15861568 0.70958004]\n",
            "Gradient descent took 18115 iterations to converge\n",
            "Epoch  2\n",
            "Initial starting points:  [0.90060792 0.00588006]\n",
            "Gradient descent took 20505 iterations to converge\n",
            "Initial starting points:  [0.87622799 0.391725  ]\n",
            "Gradient descent took 20327 iterations to converge\n",
            "Finding the best parameters at the epoch of  0\n",
            "Best Parameters: [-1.33050136  0.53128277]\n",
            "Best Loss: 3.6925805845682995\n"
          ]
        }
      ]
    },
    {
      "cell_type": "markdown",
      "source": [
        "## 4. Write function for prediction for all models and averages the output predictions"
      ],
      "metadata": {
        "id": "-Uj2BaC7jK-Z"
      }
    },
    {
      "cell_type": "markdown",
      "source": [
        "###Combining all functions into a class (Model)\n"
      ],
      "metadata": {
        "id": "lYlzGjc7bcb6"
      }
    },
    {
      "cell_type": "code",
      "source": [
        "class Model():\n",
        "    # fit the model to the data\n",
        "    def fit(self, num_epochs, num_points, X, y, w0, alpha, h, tolerance, max_iterations, gradient_type: str, explicit = False):\n",
        "\n",
        "        X = np.hstack((np.ones([X.shape[0], 1]), X))\n",
        "\n",
        "        # find the w values that minimize the sum of squared errors via gradient descent\n",
        "        L = lambda w: ((X @ w).T - y.T) @ (X @ w - y)\n",
        "\n",
        "        if gradient_type == 'simple':\n",
        "          print(f'------------\\nUsing the {gradient_type} gradient variant\\n-------------')\n",
        "          self.w = self.gradientDescent( X, L, y, w0, alpha, h, tolerance, max_iterations, explicit)\n",
        "          self.all = None\n",
        "        elif gradient_type == 'multipoint':\n",
        "          print(f'------------\\nUsing the {gradient_type} gradient variant\\n-------------')\n",
        "          self.w, _ , self.all = self.run_optimization(num_points, X, L, y, alpha, h, tolerance, max_iterations, explicit = explicit)\n",
        "        elif gradient_type == 'lrSchedual':\n",
        "          print(f'------------\\nUsing the {gradient_type} gradient variant\\n-------------')\n",
        "          self.w, _, self.all = self.gradient_descent_lrSchedual(num_epochs, num_points, X, L, y, alpha, h, tolerance, max_iterations, explicit)\n",
        "\n",
        "        return self.all\n",
        "\n",
        "    # predict the output from testing data\n",
        "    def predict(self, X):\n",
        "        # adding a column in to X matrix as intercept\n",
        "        preds = []\n",
        "        X = np.hstack((np.ones([X.shape[0],1]), X))\n",
        "        if self.all is None:\n",
        "            type(self.all)\n",
        "            preds = X@self.w\n",
        "        else:\n",
        "            for i in self.all:\n",
        "                pred = X@i\n",
        "                preds.append(pred)\n",
        "            preds = np.mean(preds, 0)\n",
        "\n",
        "        return preds\n",
        "\n",
        "    # 2. Gradient Descent with n random points\n",
        "    def run_optimization(self, num_points, X, f, y, alpha, h, tolerance, maxIterations, explicit = True):\n",
        "        best_params = None\n",
        "        best_loss = float('inf')\n",
        "        all_weight = []\n",
        "\n",
        "        for _ in range(num_points):\n",
        "            # Generate a random starting point\n",
        "            initial_theta = np.random.rand(X.shape[1])  # Assuming 2 parameters (x and y)\n",
        "            print('Initial starting points: ', initial_theta )\n",
        "\n",
        "            # Perform gradient descent\n",
        "            optimized_theta = self.gradientDescent(X, f, y, initial_theta, alpha, h, tolerance, maxIterations,  use_explicit_gradient = explicit)\n",
        "\n",
        "            # Calculate the loss for the optimized parameters\n",
        "            current_loss = f(optimized_theta)\n",
        "\n",
        "            # Check if this run has the lowest loss so far\n",
        "            if current_loss < best_loss:\n",
        "                best_loss = current_loss\n",
        "                best_params = optimized_theta\n",
        "\n",
        "            all_weight.append(optimized_theta)\n",
        "\n",
        "        return best_params, best_loss, all_weight\n",
        "\n",
        "    # gradient with epoch\n",
        "    def gradient_descent_lrSchedual(self, num_epochs, num_points, X, f, y, alpha, h, tolerance, maxIterations, explicit):\n",
        "        # Gradient Descent optimization algorithm with cyclic learning rate.\n",
        "        # x = x0\n",
        "        best_params = None\n",
        "        best_loss = float('inf')\n",
        "        all_best_w = []\n",
        "        all_best_loss = []\n",
        "\n",
        "        for epoch in range(num_epochs):\n",
        "            learning_rate = alpha / (epoch + 1) # reduce learning rate for every epoch\n",
        "            print('Epoch ', epoch)\n",
        "\n",
        "            # x, loss = run_optimization(num_points, f, y, alpha, h, tolerance, maxIterations, explicit = True)\n",
        "\n",
        "            x, loss , all_weights = self.run_optimization(num_points, X, f, y, alpha, h, tolerance, maxIterations, explicit = explicit)\n",
        "\n",
        "\n",
        "            # Save parameters every time the learning rate vanishes\n",
        "            np.savetxt(f\"model_parameters_epoch_{epoch}.txt\", x)\n",
        "\n",
        "            # Calculate the loss for the optimized parameters\n",
        "            current_loss = loss\n",
        "\n",
        "            # Check if this run has the lowest loss so far\n",
        "            if current_loss < best_loss:\n",
        "                best_loss = current_loss\n",
        "                best_params = x\n",
        "                best_epoch = epoch\n",
        "        all_best_w.append(best_params)\n",
        "        all_best_loss.append(best_loss)\n",
        "        print('Finding the best parameters at the epoch of ', best_epoch)\n",
        "\n",
        "        return best_params, all_best_loss, all_best_w\n",
        "\n",
        "\n",
        "    # run gradient descent and output the coordinates of the estimated critical point\n",
        "    def gradientDescent(self, X, f, y, x0, alpha, h, tolerance, maxIterations, use_explicit_gradient = False):\n",
        "        # set x equal to the initial guess\n",
        "        x = x0\n",
        "\n",
        "        # take up to maxIterations number of steps\n",
        "        for counter in range(maxIterations):\n",
        "            if use_explicit_gradient:\n",
        "              gradient = self.compute_explicit_gradient(X, y, x)\n",
        "            else:\n",
        "              gradient = self.computeGradient(f, x, h)\n",
        "\n",
        "\n",
        "            # stop if the norm of the gradient is near 0 (success)\n",
        "            if np.linalg.norm(gradient) < tolerance:\n",
        "                print('Gradient descent took', counter, 'iterations to converge')\n",
        "\n",
        "                # print('The norm of the gradient is', np.linalg.norm(gradient))\n",
        "\n",
        "                # return the approximate critical point x\n",
        "                return x\n",
        "\n",
        "            # print a message if we do not converge (failure)\n",
        "            elif counter == maxIterations-1:\n",
        "                print(\"Gradient descent failed\")\n",
        "\n",
        "                # return x, sometimes it is still pretty good\n",
        "                return x\n",
        "\n",
        "            # take a step in the opposite direction as the gradient\n",
        "            x -= alpha*gradient\n",
        "\n",
        "    # estimate the gradient\n",
        "    def computeGradient(self, f, x, h):\n",
        "        n = len(x)\n",
        "        gradient = np.zeros(n)\n",
        "\n",
        "        for counter in range(n):\n",
        "            xUp = x.copy()\n",
        "            xUp[counter] += h\n",
        "            gradient[counter] = (f(xUp) - f(x))/h\n",
        "\n",
        "        return gradient\n",
        "\n",
        "    # Explicit gradient\n",
        "    def compute_explicit_gradient(self, X, y, w):\n",
        "        # Calculate the gradient of the function with respect to w\n",
        "        gradient = 2 * np.dot(X.T, (np.dot(X, w) - y))\n",
        "\n",
        "        return gradient\n"
      ],
      "metadata": {
        "id": "v4qkaLpPbvOK"
      },
      "execution_count": null,
      "outputs": []
    },
    {
      "cell_type": "markdown",
      "source": [
        "###Test model =====> Save all sets of parameters"
      ],
      "metadata": {
        "id": "h8CV0fKo0Cww"
      }
    },
    {
      "cell_type": "code",
      "source": [
        "X = np.array([[6], [7], [8], [9], [7] ])\n",
        "y = np.array([1, 2, 3, 3, 4])\n",
        "num_epochs = 3\n",
        "num_points = 2 # sets initial values\n",
        "\n",
        "explicits = [True, False]\n",
        "gradient_type = ['multipoint']\n",
        "\n",
        "x0 = np.random.rand(X.shape[1] +1)*0.001\n",
        "for explicit in explicits:\n",
        "  if explicit: print('\\nUsing explicit gradient\\n-------------------------------------------------------------')\n",
        "  else: print('\\nUsing numerical gradient method\\n-------------------------------------------------------------')\n",
        "\n",
        "  for g_type in gradient_type:\n",
        "    model = Model()\n",
        "    model.fit(num_epochs, num_points, X, y, x0, alpha = 0.001, h = 0.001, tolerance = 0.01, max_iterations = 10000000, gradient_type = g_type, explicit = False)\n",
        "    prediction = model.predict(X)\n",
        "\n",
        "    # print('Prediction from exact solution: \\n', prediction)\n",
        "    print('Mean of predictions: ', prediction)"
      ],
      "metadata": {
        "colab": {
          "base_uri": "https://localhost:8080/"
        },
        "id": "m3fGwgsN0NYp",
        "outputId": "ff0753ad-8123-405b-f0ca-31243474a50e"
      },
      "execution_count": null,
      "outputs": [
        {
          "output_type": "stream",
          "name": "stdout",
          "text": [
            "\n",
            "Using explicit gradient\n",
            "-------------------------------------------------------------\n",
            "------------\n",
            "Using the multipoint gradient variant\n",
            "-------------\n",
            "Initial starting points:  [0.21266287 0.19583833]\n",
            "Gradient descent took 17923 iterations to converge\n",
            "Initial starting points:  [0.98371829 0.14897675]\n",
            "Gradient descent took 20243 iterations to converge\n",
            "Mean of predictions:  [1.88927257 2.39728586 2.90529915 3.41331243 2.39728586]\n",
            "\n",
            "Using numerical gradient method\n",
            "-------------------------------------------------------------\n",
            "------------\n",
            "Using the multipoint gradient variant\n",
            "-------------\n",
            "Initial starting points:  [0.14544756 0.6303754 ]\n",
            "Gradient descent took 17438 iterations to converge\n",
            "Initial starting points:  [0.57384009 0.82776784]\n",
            "Gradient descent took 18868 iterations to converge\n",
            "Mean of predictions:  [1.88927218 2.39728572 2.90529926 3.4133128  2.39728572]\n"
          ]
        }
      ]
    },
    {
      "cell_type": "markdown",
      "source": [
        "##5. Test model on [Mount Pleasant Real Estate Dataset](https://www.hawkeslearning.com/Statistics/dis/datasets.html)\n"
      ],
      "metadata": {
        "id": "mIJwWPC9a_Kh"
      }
    },
    {
      "cell_type": "markdown",
      "source": [
        "###Testing six variants of the gradient\n",
        "\n",
        "Before jumping on the Mount pleasant Real Estate dataset, it should be better to test it on a samll dataset.\n",
        "\n"
      ],
      "metadata": {
        "id": "DkKNLtUm1Ogu"
      }
    },
    {
      "cell_type": "code",
      "source": [
        "X = np.array([[6], [7], [8], [9], [7] ])\n",
        "y = np.array([1, 2, 3, 3, 4])\n",
        "num_epochs = 2\n",
        "num_points = 2 # sets initial values\n",
        "\n",
        "explicits = [True, False]\n",
        "gradient_type = ['simple', 'multipoint', 'lrSchedual']\n",
        "\n",
        "x0 = np.random.rand(X.shape[1] +1)*0.001\n",
        "for explicit in explicits:\n",
        "  for g_type in gradient_type:\n",
        "    model = Model()\n",
        "    model.fit(num_epochs, num_points, X, y, x0, alpha = 0.001, h = 0.001, tolerance = 0.01, max_iterations = 10000000, gradient_type = g_type, explicit = False)\n",
        "    prediction = model.predict(X)\n",
        "\n",
        "    # print('Prediction from exact solution: \\n', prediction)\n",
        "    print('Mean of predictions: ', prediction)\n"
      ],
      "metadata": {
        "colab": {
          "base_uri": "https://localhost:8080/"
        },
        "id": "bb_s_cVffbTg",
        "outputId": "8fda335d-0567-4863-d5a7-5c984599886f"
      },
      "execution_count": null,
      "outputs": [
        {
          "output_type": "stream",
          "name": "stdout",
          "text": [
            "------------\n",
            "Using the simple gradient variant\n",
            "-------------\n",
            "Gradient descent took 17182 iterations to converge\n",
            "Mean of predictions:  [1.88927226 2.39728575 2.90529924 3.41331273 2.39728575]\n",
            "------------\n",
            "Using the multipoint gradient variant\n",
            "-------------\n",
            "Initial starting points:  [0.07109899 0.3307451 ]\n",
            "Gradient descent took 17295 iterations to converge\n",
            "Initial starting points:  [0.87212846 0.493542  ]\n",
            "Gradient descent took 19846 iterations to converge\n",
            "Mean of predictions:  [1.88927326 2.3972861  2.90529894 3.41331178 2.3972861 ]\n",
            "------------\n",
            "Using the lrSchedual gradient variant\n",
            "-------------\n",
            "Epoch  0\n",
            "Initial starting points:  [0.12730143 0.19863234]\n",
            "Gradient descent took 17594 iterations to converge\n",
            "Initial starting points:  [0.52929182 0.21407131]\n",
            "Gradient descent took 18982 iterations to converge\n",
            "Epoch  1\n",
            "Initial starting points:  [0.92998809 0.3062563 ]\n",
            "Gradient descent took 20058 iterations to converge\n",
            "Initial starting points:  [0.39005756 0.34445057]\n",
            "Gradient descent took 18480 iterations to converge\n",
            "Finding the best parameters at the epoch of  0\n",
            "Mean of predictions:  [1.88927247 2.39728583 2.90529918 3.41331253 2.39728583]\n",
            "------------\n",
            "Using the simple gradient variant\n",
            "-------------\n",
            "Gradient descent took 0 iterations to converge\n",
            "Mean of predictions:  [1.88927226 2.39728575 2.90529924 3.41331273 2.39728575]\n",
            "------------\n",
            "Using the multipoint gradient variant\n",
            "-------------\n",
            "Initial starting points:  [0.35224786 0.06372644]\n",
            "Gradient descent took 18478 iterations to converge\n",
            "Initial starting points:  [0.57433114 0.21503871]\n",
            "Gradient descent took 19118 iterations to converge\n",
            "Mean of predictions:  [1.88927256 2.39728586 2.90529915 3.41331245 2.39728586]\n",
            "------------\n",
            "Using the lrSchedual gradient variant\n",
            "-------------\n",
            "Epoch  0\n",
            "Initial starting points:  [0.8353487  0.25467736]\n",
            "Gradient descent took 19833 iterations to converge\n",
            "Initial starting points:  [8.53375287e-01 3.40840943e-04]\n",
            "Gradient descent took 19967 iterations to converge\n",
            "Epoch  1\n",
            "Initial starting points:  [0.1312203  0.16558042]\n",
            "Gradient descent took 17627 iterations to converge\n",
            "Initial starting points:  [0.26628505 0.06858996]\n",
            "Gradient descent took 18179 iterations to converge\n",
            "Finding the best parameters at the epoch of  0\n",
            "Mean of predictions:  [1.88927269 2.3972859  2.90529911 3.41331232 2.3972859 ]\n"
          ]
        }
      ]
    },
    {
      "cell_type": "markdown",
      "source": [
        "###Prediction the Mount_Pleasant_Real_Estate_Data"
      ],
      "metadata": {
        "id": "9T13g_c_1XgV"
      }
    },
    {
      "cell_type": "code",
      "source": [
        "from sklearn.preprocessing import LabelEncoder\n",
        "\n",
        "df = pd.read_csv('/content/Mount_Pleasant_Real_Estate_Data.csv')\n",
        "\n",
        "# Define a mapping from 'yes' to 1 and 'no' to 0\n",
        "binary_mapping = {'Yes': 1, 'No': 0}\n",
        "\n",
        "# Convert the 'yes/no' column to binary\n",
        "df['Duplex?'] = df['Duplex?'].map(binary_mapping) # C\n",
        "df['New Owned?'] = df['New Owned?'].map(binary_mapping) # M\n",
        "\n",
        "df['Has Pool?'] = df['Has Pool?'].map(binary_mapping) # Q\n",
        "df['Has Dock?'] = df['Has Dock?'].map(binary_mapping) # R\n",
        "df['Fenced Yard'] = df['Fenced Yard'].map(binary_mapping) # S\n",
        "df['Screened Porch?'] = df['Screened Porch?'].map(binary_mapping) # T\n",
        "\n",
        "df['Golf Course?'] = df['Golf Course?'].map(binary_mapping) # V\n",
        "df['Fireplace?'] = df['Fireplace?'].map(binary_mapping) # W\n",
        "\n",
        "categorical_columns = ['Subdivision', 'House Style', ]\n",
        "label_encoder = LabelEncoder()\n",
        "\n",
        "# Apply label encoding to each categorical column\n",
        "for col in categorical_columns:\n",
        "    df[col] = label_encoder.fit_transform(df[col])\n",
        "\n",
        "# Extracting input and ground truth from the data\n",
        "input_columns = df.columns[list(range(2, 14)) + list(range(16, 19)) + list(range(21, 22))]\n",
        "\n",
        "# Create a new DataFrame containing only the selected input columns\n",
        "X = np.array(df[input_columns], dtype=float)\n",
        "y = np.array(df[df.columns[1]], dtype=float)\n",
        "\n",
        "# Using data from the defined columns (C-O, Q-T, and V-W)\n",
        "print(X.shape, np.mean(X, axis = 0).shape, np.mean(X, axis = 1).shape)\n",
        "\n",
        "#Normalize data with some columns\n",
        "X[:, [1, 2, 3, 5, 7, 8, 9]] = (X[:, [1, 2, 3, 5, 7, 8, 9]] - np.mean(X[:, [1, 2, 3, 5, 7, 8, 9]], axis = 0))/np.std(X[:, [1, 2, 3, 5, 7, 8, 9]], axis = 0)\n",
        "\n",
        "# split the data into training and test sets\n",
        "trainX, testX, trainY, testY = train_test_split(X, y, train_size = 0.24, random_state =42)\n",
        "\n",
        "trainX = scale(trainX)\n",
        "testX = scale(testX)\n"
      ],
      "metadata": {
        "colab": {
          "base_uri": "https://localhost:8080/"
        },
        "id": "jSvTnYnWJ9-a",
        "outputId": "f8e28c87-a2be-468a-bba8-7c63b9db6224"
      },
      "execution_count": null,
      "outputs": [
        {
          "output_type": "stream",
          "name": "stdout",
          "text": [
            "(245, 16) (16,) (245,)\n"
          ]
        }
      ]
    },
    {
      "cell_type": "markdown",
      "source": [
        "Training model and and using saved weights for prediction"
      ],
      "metadata": {
        "id": "BcuYdqn16S43"
      }
    },
    {
      "cell_type": "code",
      "source": [
        "explicits = [True, False]\n",
        "gradient_type = ['simple', 'multipoint', 'lrSchedual']\n",
        "num_epochs = 2\n",
        "num_points = 2 # sets initial values\n",
        "x0 = np.random.rand(trainX.shape[1] +1)*0.001\n",
        "for explicit in explicits:\n",
        "  if explicit: print('\\nUsing explicit gradient\\n-------------------------------------------------------------')\n",
        "  else: print('\\nUsing numerical gradient method\\n-------------------------------------------------------------')\n",
        "\n",
        "  for g_type in gradient_type:\n",
        "    model = Model()\n",
        "\n",
        "    # Fitting model\n",
        "    fstart = time.time()\n",
        "    model.fit(num_epochs, num_points,  trainX, trainY, x0, alpha = 0.001, h = 0.001, tolerance = 0.01, max_iterations = 10000, gradient_type = g_type, explicit = False)\n",
        "    fend = time.time()\n",
        "    print(f\"\\nFitting time is {fend - fstart}\")\n",
        "\n",
        "    print('\\nPredicting the model...\\n')\n",
        "\n",
        "    trainPredictions_num_all = model.predict(X)\n",
        "\n",
        "    # Prediction\n",
        "    pstart = time.time()\n",
        "    trainPredictions_num = model.predict(trainX)\n",
        "    pend = time.time()\n",
        "    print(f\"Prediction time is {pend - pstart}\")\n",
        "\n",
        "    print('\\nThe r^2 score is\\t', r2_score(trainY, trainPredictions_num))\n",
        "\n",
        "\n",
        "    # print quality metrics\n",
        "    print('\\nThe mean absolute error on the training set is\\t', mean_absolute_error(trainY, trainPredictions_num))\n",
        "\n",
        "    # return the predicted outputs for the datapoints in the test set\n",
        "    predictions_num = model.predict(testX)\n",
        "\n",
        "    # print the predictions\n",
        "    print('\\nThe predicted y values for the test set are\\t', np.round(predictions_num,0))\n",
        "\n",
        "    # print the real y values\n",
        "    print('The real y values for the test set are\\t', testY)\n",
        "\n",
        "    # print the weights\n",
        "    print('\\nThe weights are\\t', model.w)\n",
        "\n",
        "    # print quality metrics\n",
        "    print('\\nThe mean absolute error on the test set is\\t', mean_absolute_error(testY, predictions_num), '\\n')\n",
        "\n"
      ],
      "metadata": {
        "colab": {
          "base_uri": "https://localhost:8080/"
        },
        "id": "TLSnUc012IXr",
        "outputId": "faed36b2-7223-4c51-9a97-d0a6bfa01bfa"
      },
      "execution_count": null,
      "outputs": [
        {
          "output_type": "stream",
          "name": "stdout",
          "text": [
            "\n",
            "Using explicit gradient\n",
            "-------------------------------------------------------------\n",
            "------------\n",
            "Using the simple gradient variant\n",
            "-------------\n",
            "Gradient descent failed\n",
            "\n",
            "Fitting time is 4.387463569641113\n",
            "\n",
            "Predicting the model...\n",
            "\n",
            "Prediction time is 5.507469177246094e-05\n",
            "\n",
            "The r^2 score is\t 0.9382950520219118\n",
            "\n",
            "The mean absolute error on the training set is\t 56305.72730190991\n",
            "\n",
            "The predicted y values for the test set are\t [ 494426.  726599.  194054.  660816.  614813.  502575. 1008868.  226799.  586574.  323530.  729905.  503266.  350834.  112098.  677598. 1381571. 1049112.  549131.  604425.\n",
            "  675969.  670583.  697544. 2013777.  566526.  773956. 1131719.  637799.  795734.  504825.  487537. 1247219.  436431.  550857.  773943.  524459.  271180.  442128.  706538.\n",
            " 1332974. 1012579.  649839.  278532. 1285201.  514297.  953049.  709082.  597628.  684080.  530024.  509711.  659097.  455158.  557709.  566622.  915671.  595047.  224909.\n",
            "  529318.  452727.  307972.  293040.  367541.  473323.  333771.  806697.  297080.  694482. 1394239.  453489.  492269.  135957. 1170284.  777386.  622023.  239845.  398314.\n",
            "  449971.  482928. 1162346. 1190989. 1173324. 1224957.  773417.  724045.  594633.  491210.  631106.  553471.  671598.  614814.  695349. 1372717.  276833.  381843.  461402.\n",
            "  454062.  365645.  800408.  916158.  939110.  714326. 1665832.  736605.  720753.  687184.  700942.  400234.  285561.  593599.  720712.  333643.  670916.  802636.  725724.\n",
            "  337850.  715171.  922488.  502259.  453612.  634687.  173067.  471849.  511818.  556377. 1557089.  707246.  600749.  310494.  381507.  657649.  574754. 1256464.  586906.\n",
            "  174735.  483501.  234605.  551547.  856864.  311098.  655498.  683441.  537205.  618366.  549505.  608391.  578913.  314947.  930801.  710887.  476759.  647750.  310473.\n",
            "  575762.  466005. 1053375.  754709.  582837.  712407.  731955.  425297.  211258.  334866.  635816. 1378116.  283457.  748924.  351066.  505643.  685595.  456594.  846733.\n",
            "  571802.  505643.  194054.  573950.  575591.  275888.  713792.  450751. 1390340.  597226.  763411.  533076.  437059.  552105.  491604.  548640.]\n",
            "The real y values for the test set are\t [ 525000.  575000.  179900.  599000.  795000.  503990.  875000.  232900.  469900.  349900.  725900.  600000.  425000.  226900.  649900. 1112885.  999999.  505000.  756500.\n",
            "  879000.  569900.  512000. 1699000.  561900.  689950. 1199000.  569900.  715000.  426990.  416990. 1375000.  497900.  529900.  875000.  509000.  237000.  440000.  840000.\n",
            "  827655. 1399000.  699900.  245000. 1345000.  505900.  850000.  750000.  689000.  589900.  639000.  421999.  650000.  445000.  456990.  630000.  975000.  564775.  341500.\n",
            "  505990.  406990.  359500.  349999.  369000.  508990.  450000.  739000.  329900.  735000. 1500000.  474990.  500000.  124900.  899000.  665000.  549900.  327000.  429000.\n",
            "  508000.  446900.  925000. 1050000. 1450000. 1199000.  795000.  750000.  659900.  479900.  564900.  478900.  574900.  534900.  613290. 1800000.  362500.  469900.  439990.\n",
            "  472900.  445000.  832140.  868000.  698980.  609900. 1818000.  874900.  669900.  935000.  530000.  325000.  339000.  511000.  875000.  369900.  769900.  698000.  729900.\n",
            "  389900.  774650. 1136900.  486990.  529000.  617500.  205900.  437990.  430000.  574900.  891846.  875000.  522000.  394000.  425000.  765135.  530000. 1595000.  534000.\n",
            "  119900.  436625.  224900.  564900.  840000.  369900.  827189.  840000.  763634.  615000.  854437.  511900.  735000.  319500.  799900.  651948.  490000.  599900.  229000.\n",
            "  522075.  509990. 1250000.  650000.  589900.  720000.  775000.  445000.  220000.  347000.  614900. 1005685.  360000.  699990.  324000.  477771.  750000.  465000.  785000.\n",
            "  930525.  450000.  189500.  655000.  571900.  364900.  575000.  475990. 1575000.  523900.  635000.  499990.  464500.  540000.  464900.  478900.]\n",
            "\n",
            "The weights are\t [634761.25816247 -34494.86466404 -81610.5900283   10255.42106726  15948.48912649 -16568.23366509 -10428.47516992 -36557.31317473 202954.09683268  29300.70175627 105893.23955985\n",
            "   2361.25025984 -18553.07889897  14100.13473704 100016.74244293  23103.78044701 -30947.09450346]\n",
            "\n",
            "The mean absolute error on the test set is\t 88908.1552379255 \n",
            "\n",
            "------------\n",
            "Using the multipoint gradient variant\n",
            "-------------\n",
            "Initial starting points:  [0.43317052 0.33368267 0.33373494 0.58121629 0.10016604 0.72934512 0.00960239 0.190162   0.98312608 0.92215964 0.86181611 0.82193139 0.70759383 0.52481576 0.48358516 0.02135055\n",
            " 0.2156295 ]\n",
            "Gradient descent failed\n",
            "Initial starting points:  [0.96569969 0.10609319 0.81450569 0.57004678 0.97977063 0.47257296 0.56403091 0.93224765 0.49381016 0.98757366 0.98703517 0.00595227 0.91731649 0.1406876  0.30068789 0.26916411\n",
            " 0.6031078 ]\n",
            "Gradient descent failed\n",
            "\n",
            "Fitting time is 8.090279817581177\n",
            "\n",
            "Predicting the model...\n",
            "\n",
            "Prediction time is 8.416175842285156e-05\n",
            "\n",
            "The r^2 score is\t 0.9382950520219118\n",
            "\n",
            "The mean absolute error on the training set is\t 56305.727359963355\n",
            "\n",
            "The predicted y values for the test set are\t [ 494426.  726599.  194054.  660816.  614813.  502575. 1008868.  226799.  586574.  323530.  729905.  503266.  350834.  112098.  677598. 1381571. 1049112.  549131.  604425.\n",
            "  675969.  670583.  697544. 2013777.  566526.  773956. 1131719.  637799.  795733.  504825.  487537. 1247219.  436431.  550857.  773943.  524459.  271180.  442128.  706538.\n",
            " 1332974. 1012579.  649839.  278532. 1285201.  514297.  953049.  709082.  597628.  684080.  530024.  509711.  659097.  455158.  557709.  566622.  915671.  595047.  224909.\n",
            "  529318.  452727.  307972.  293040.  367541.  473323.  333771.  806697.  297080.  694482. 1394239.  453489.  492269.  135957. 1170284.  777386.  622023.  239845.  398314.\n",
            "  449971.  482928. 1162346. 1190989. 1173324. 1224957.  773417.  724045.  594633.  491210.  631106.  553471.  671598.  614814.  695349. 1372717.  276833.  381843.  461402.\n",
            "  454062.  365645.  800408.  916158.  939110.  714326. 1665832.  736605.  720753.  687184.  700942.  400234.  285561.  593599.  720712.  333643.  670916.  802636.  725724.\n",
            "  337850.  715171.  922488.  502259.  453612.  634687.  173067.  471849.  511818.  556377. 1557089.  707246.  600749.  310494.  381507.  657649.  574754. 1256464.  586906.\n",
            "  174735.  483501.  234605.  551547.  856864.  311098.  655498.  683441.  537205.  618366.  549505.  608391.  578913.  314947.  930801.  710887.  476759.  647750.  310473.\n",
            "  575762.  466005. 1053375.  754709.  582837.  712407.  731955.  425297.  211258.  334866.  635816. 1378116.  283457.  748924.  351066.  505643.  685595.  456594.  846733.\n",
            "  571802.  505643.  194054.  573950.  575591.  275888.  713792.  450751. 1390340.  597226.  763411.  533076.  437059.  552105.  491604.  548640.]\n",
            "The real y values for the test set are\t [ 525000.  575000.  179900.  599000.  795000.  503990.  875000.  232900.  469900.  349900.  725900.  600000.  425000.  226900.  649900. 1112885.  999999.  505000.  756500.\n",
            "  879000.  569900.  512000. 1699000.  561900.  689950. 1199000.  569900.  715000.  426990.  416990. 1375000.  497900.  529900.  875000.  509000.  237000.  440000.  840000.\n",
            "  827655. 1399000.  699900.  245000. 1345000.  505900.  850000.  750000.  689000.  589900.  639000.  421999.  650000.  445000.  456990.  630000.  975000.  564775.  341500.\n",
            "  505990.  406990.  359500.  349999.  369000.  508990.  450000.  739000.  329900.  735000. 1500000.  474990.  500000.  124900.  899000.  665000.  549900.  327000.  429000.\n",
            "  508000.  446900.  925000. 1050000. 1450000. 1199000.  795000.  750000.  659900.  479900.  564900.  478900.  574900.  534900.  613290. 1800000.  362500.  469900.  439990.\n",
            "  472900.  445000.  832140.  868000.  698980.  609900. 1818000.  874900.  669900.  935000.  530000.  325000.  339000.  511000.  875000.  369900.  769900.  698000.  729900.\n",
            "  389900.  774650. 1136900.  486990.  529000.  617500.  205900.  437990.  430000.  574900.  891846.  875000.  522000.  394000.  425000.  765135.  530000. 1595000.  534000.\n",
            "  119900.  436625.  224900.  564900.  840000.  369900.  827189.  840000.  763634.  615000.  854437.  511900.  735000.  319500.  799900.  651948.  490000.  599900.  229000.\n",
            "  522075.  509990. 1250000.  650000.  589900.  720000.  775000.  445000.  220000.  347000.  614900. 1005685.  360000.  699990.  324000.  477771.  750000.  465000.  785000.\n",
            "  930525.  450000.  189500.  655000.  571900.  364900.  575000.  475990. 1575000.  523900.  635000.  499990.  464500.  540000.  464900.  478900.]\n",
            "\n",
            "The weights are\t [634761.25867101 -34494.8641933  -81610.58978801  10255.55576463  15948.36072512 -16568.27346249 -10428.47471158 -36557.31307286 202954.09616319  29300.70286033 105893.2395627\n",
            "   2361.25003198 -18553.07890519  14100.13474008 100016.74341182  23103.78062789 -30947.09449013]\n",
            "\n",
            "The mean absolute error on the test set is\t 88908.15517051792 \n",
            "\n",
            "------------\n",
            "Using the lrSchedual gradient variant\n",
            "-------------\n",
            "Epoch  0\n",
            "Initial starting points:  [0.647985   0.68008024 0.74189451 0.85640445 0.92156555 0.49063376 0.06020246 0.97736363 0.58930201 0.2476778  0.97792969 0.60379852 0.98771683 0.17123116 0.60860725 0.44564649\n",
            " 0.92897805]\n",
            "Gradient descent failed\n",
            "Initial starting points:  [0.97500676 0.03148691 0.13020956 0.96178571 0.05797459 0.99366714 0.67471735 0.05695176 0.03593704 0.33006101 0.83547247 0.36280556 0.8331374  0.12352727 0.69871888 0.97574228\n",
            " 0.30958939]\n",
            "Gradient descent failed\n",
            "Epoch  1\n",
            "Initial starting points:  [0.70335146 0.10516564 0.0013209  0.78158397 0.61270419 0.96553422 0.91815062 0.05340935 0.63932085 0.03053687 0.27207363 0.58498847 0.63755245 0.05782239 0.08502229 0.99381005\n",
            " 0.37693246]\n",
            "Gradient descent failed\n",
            "Initial starting points:  [0.55991034 0.43609889 0.27931737 0.68023384 0.81953621 0.27945402 0.7429766  0.2008475  0.93325902 0.35825359 0.35435008 0.92026697 0.4422403  0.28226809 0.72116011 0.13178025\n",
            " 0.78970071]\n",
            "Gradient descent failed\n",
            "Finding the best parameters at the epoch of  0\n",
            "\n",
            "Fitting time is 17.561971426010132\n",
            "\n",
            "Predicting the model...\n",
            "\n",
            "Prediction time is 9.751319885253906e-05\n",
            "\n",
            "The r^2 score is\t 0.9382950520219119\n",
            "\n",
            "The mean absolute error on the training set is\t 56305.72748290259\n",
            "\n",
            "The predicted y values for the test set are\t [ 494426.  726599.  194054.  660816.  614813.  502575. 1008868.  226799.  586574.  323530.  729905.  503266.  350834.  112098.  677598. 1381571. 1049112.  549131.  604425.\n",
            "  675969.  670583.  697544. 2013777.  566526.  773956. 1131719.  637799.  795734.  504825.  487537. 1247219.  436431.  550857.  773943.  524459.  271180.  442128.  706538.\n",
            " 1332974. 1012579.  649839.  278532. 1285201.  514297.  953049.  709082.  597628.  684080.  530024.  509711.  659097.  455158.  557709.  566622.  915671.  595047.  224909.\n",
            "  529318.  452727.  307972.  293040.  367541.  473323.  333771.  806697.  297080.  694482. 1394239.  453489.  492269.  135957. 1170284.  777386.  622023.  239845.  398314.\n",
            "  449971.  482928. 1162346. 1190989. 1173324. 1224957.  773417.  724045.  594633.  491210.  631106.  553471.  671598.  614814.  695349. 1372717.  276833.  381843.  461402.\n",
            "  454062.  365645.  800408.  916158.  939110.  714326. 1665832.  736605.  720753.  687184.  700942.  400234.  285561.  593599.  720712.  333643.  670916.  802636.  725724.\n",
            "  337850.  715171.  922488.  502259.  453612.  634687.  173067.  471849.  511818.  556377. 1557089.  707246.  600749.  310494.  381507.  657649.  574754. 1256464.  586906.\n",
            "  174735.  483501.  234605.  551547.  856864.  311098.  655498.  683441.  537205.  618366.  549505.  608391.  578913.  314947.  930801.  710887.  476759.  647750.  310473.\n",
            "  575762.  466005. 1053375.  754709.  582837.  712407.  731955.  425297.  211258.  334866.  635816. 1378116.  283457.  748924.  351066.  505643.  685595.  456594.  846733.\n",
            "  571802.  505643.  194054.  573950.  575591.  275888.  713792.  450751. 1390340.  597226.  763411.  533076.  437059.  552105.  491604.  548640.]\n",
            "The real y values for the test set are\t [ 525000.  575000.  179900.  599000.  795000.  503990.  875000.  232900.  469900.  349900.  725900.  600000.  425000.  226900.  649900. 1112885.  999999.  505000.  756500.\n",
            "  879000.  569900.  512000. 1699000.  561900.  689950. 1199000.  569900.  715000.  426990.  416990. 1375000.  497900.  529900.  875000.  509000.  237000.  440000.  840000.\n",
            "  827655. 1399000.  699900.  245000. 1345000.  505900.  850000.  750000.  689000.  589900.  639000.  421999.  650000.  445000.  456990.  630000.  975000.  564775.  341500.\n",
            "  505990.  406990.  359500.  349999.  369000.  508990.  450000.  739000.  329900.  735000. 1500000.  474990.  500000.  124900.  899000.  665000.  549900.  327000.  429000.\n",
            "  508000.  446900.  925000. 1050000. 1450000. 1199000.  795000.  750000.  659900.  479900.  564900.  478900.  574900.  534900.  613290. 1800000.  362500.  469900.  439990.\n",
            "  472900.  445000.  832140.  868000.  698980.  609900. 1818000.  874900.  669900.  935000.  530000.  325000.  339000.  511000.  875000.  369900.  769900.  698000.  729900.\n",
            "  389900.  774650. 1136900.  486990.  529000.  617500.  205900.  437990.  430000.  574900.  891846.  875000.  522000.  394000.  425000.  765135.  530000. 1595000.  534000.\n",
            "  119900.  436625.  224900.  564900.  840000.  369900.  827189.  840000.  763634.  615000.  854437.  511900.  735000.  319500.  799900.  651948.  490000.  599900.  229000.\n",
            "  522075.  509990. 1250000.  650000.  589900.  720000.  775000.  445000.  220000.  347000.  614900. 1005685.  360000.  699990.  324000.  477771.  750000.  465000.  785000.\n",
            "  930525.  450000.  189500.  655000.  571900.  364900.  575000.  475990. 1575000.  523900.  635000.  499990.  464500.  540000.  464900.  478900.]\n",
            "\n",
            "The weights are\t [634761.25845863 -34494.8635599  -81610.58897707  10255.3467609   15948.56011535 -16568.21127053 -10428.47501483 -36557.31310268 202954.09619899  29300.70238972 105893.24038086\n",
            "   2361.25077118 -18553.07868942  14100.13473213 100016.7432508   23103.78127881 -30947.0950698 ]\n",
            "\n",
            "The mean absolute error on the test set is\t 88908.15505923434 \n",
            "\n",
            "\n",
            "Using numerical gradient method\n",
            "-------------------------------------------------------------\n",
            "------------\n",
            "Using the simple gradient variant\n",
            "-------------\n",
            "Gradient descent failed\n",
            "\n",
            "Fitting time is 3.8235373497009277\n",
            "\n",
            "Predicting the model...\n",
            "\n",
            "Prediction time is 5.91278076171875e-05\n",
            "\n",
            "The r^2 score is\t 0.9382950520219118\n",
            "\n",
            "The mean absolute error on the training set is\t 56305.72718656694\n",
            "\n",
            "The predicted y values for the test set are\t [ 494426.  726599.  194054.  660816.  614813.  502575. 1008868.  226799.  586574.  323530.  729905.  503266.  350834.  112098.  677598. 1381571. 1049112.  549131.  604425.\n",
            "  675969.  670583.  697544. 2013777.  566526.  773956. 1131719.  637799.  795734.  504825.  487537. 1247219.  436431.  550857.  773943.  524459.  271180.  442128.  706538.\n",
            " 1332974. 1012579.  649839.  278532. 1285201.  514297.  953049.  709082.  597628.  684080.  530024.  509711.  659097.  455158.  557709.  566622.  915671.  595047.  224909.\n",
            "  529318.  452727.  307972.  293040.  367541.  473323.  333771.  806697.  297080.  694482. 1394239.  453489.  492269.  135957. 1170284.  777386.  622023.  239845.  398314.\n",
            "  449971.  482928. 1162346. 1190989. 1173324. 1224957.  773417.  724045.  594633.  491210.  631106.  553471.  671598.  614814.  695349. 1372717.  276833.  381843.  461402.\n",
            "  454062.  365645.  800408.  916158.  939110.  714326. 1665832.  736605.  720753.  687184.  700942.  400234.  285561.  593599.  720712.  333643.  670916.  802636.  725724.\n",
            "  337850.  715171.  922488.  502259.  453612.  634687.  173067.  471849.  511818.  556377. 1557089.  707246.  600749.  310494.  381507.  657649.  574754. 1256464.  586906.\n",
            "  174735.  483501.  234605.  551547.  856864.  311098.  655498.  683441.  537205.  618366.  549505.  608391.  578913.  314947.  930801.  710887.  476759.  647750.  310473.\n",
            "  575762.  466005. 1053375.  754709.  582837.  712407.  731955.  425297.  211258.  334866.  635816. 1378116.  283457.  748924.  351066.  505643.  685595.  456594.  846733.\n",
            "  571802.  505643.  194054.  573950.  575591.  275888.  713792.  450751. 1390340.  597226.  763411.  533076.  437059.  552105.  491604.  548640.]\n",
            "The real y values for the test set are\t [ 525000.  575000.  179900.  599000.  795000.  503990.  875000.  232900.  469900.  349900.  725900.  600000.  425000.  226900.  649900. 1112885.  999999.  505000.  756500.\n",
            "  879000.  569900.  512000. 1699000.  561900.  689950. 1199000.  569900.  715000.  426990.  416990. 1375000.  497900.  529900.  875000.  509000.  237000.  440000.  840000.\n",
            "  827655. 1399000.  699900.  245000. 1345000.  505900.  850000.  750000.  689000.  589900.  639000.  421999.  650000.  445000.  456990.  630000.  975000.  564775.  341500.\n",
            "  505990.  406990.  359500.  349999.  369000.  508990.  450000.  739000.  329900.  735000. 1500000.  474990.  500000.  124900.  899000.  665000.  549900.  327000.  429000.\n",
            "  508000.  446900.  925000. 1050000. 1450000. 1199000.  795000.  750000.  659900.  479900.  564900.  478900.  574900.  534900.  613290. 1800000.  362500.  469900.  439990.\n",
            "  472900.  445000.  832140.  868000.  698980.  609900. 1818000.  874900.  669900.  935000.  530000.  325000.  339000.  511000.  875000.  369900.  769900.  698000.  729900.\n",
            "  389900.  774650. 1136900.  486990.  529000.  617500.  205900.  437990.  430000.  574900.  891846.  875000.  522000.  394000.  425000.  765135.  530000. 1595000.  534000.\n",
            "  119900.  436625.  224900.  564900.  840000.  369900.  827189.  840000.  763634.  615000.  854437.  511900.  735000.  319500.  799900.  651948.  490000.  599900.  229000.\n",
            "  522075.  509990. 1250000.  650000.  589900.  720000.  775000.  445000.  220000.  347000.  614900. 1005685.  360000.  699990.  324000.  477771.  750000.  465000.  785000.\n",
            "  930525.  450000.  189500.  655000.  571900.  364900.  575000.  475990. 1575000.  523900.  635000.  499990.  464500.  540000.  464900.  478900.]\n",
            "\n",
            "The weights are\t [634761.25797936 -34494.86472508 -81610.59045555  10255.38609412  15948.52257375 -16568.22316704 -10428.47492578 -36557.31354094 202954.09640543  29300.7016342  105893.23901053\n",
            "   2361.2498326  -18553.07969243  14100.13455394 100016.74305328  23103.77989769 -30947.0947476 ]\n",
            "\n",
            "The mean absolute error on the test set is\t 88908.15559131243 \n",
            "\n",
            "------------\n",
            "Using the multipoint gradient variant\n",
            "-------------\n",
            "Initial starting points:  [0.41116166 0.39124646 0.73768532 0.01541953 0.81209592 0.62444997 0.77343965 0.83405562 0.69651895 0.55635725 0.30315471 0.2198949  0.40024014 0.92656787 0.55696142 0.75839137\n",
            " 0.82430583]\n",
            "Gradient descent failed\n",
            "Initial starting points:  [0.17029459 0.81116391 0.7943055  0.39115479 0.39597524 0.36350501 0.38334623 0.60677911 0.3075641  0.51224343 0.63763403 0.89542012 0.51071047 0.72011836 0.54431163 0.53814325\n",
            " 0.76207073]\n",
            "Gradient descent failed\n",
            "\n",
            "Fitting time is 9.115677833557129\n",
            "\n",
            "Predicting the model...\n",
            "\n",
            "Prediction time is 0.00010919570922851562\n",
            "\n",
            "The r^2 score is\t 0.9382950520219118\n",
            "\n",
            "The mean absolute error on the training set is\t 56305.72727769934\n",
            "\n",
            "The predicted y values for the test set are\t [ 494426.  726599.  194054.  660816.  614813.  502575. 1008868.  226799.  586574.  323530.  729905.  503266.  350834.  112098.  677598. 1381571. 1049112.  549131.  604425.\n",
            "  675969.  670583.  697544. 2013777.  566526.  773956. 1131719.  637799.  795734.  504825.  487537. 1247219.  436431.  550857.  773943.  524459.  271180.  442128.  706538.\n",
            " 1332974. 1012579.  649839.  278532. 1285201.  514297.  953049.  709082.  597628.  684080.  530024.  509711.  659097.  455158.  557709.  566622.  915671.  595047.  224909.\n",
            "  529318.  452727.  307972.  293040.  367541.  473323.  333771.  806697.  297080.  694482. 1394239.  453489.  492269.  135957. 1170284.  777386.  622023.  239845.  398314.\n",
            "  449971.  482928. 1162346. 1190989. 1173324. 1224957.  773417.  724045.  594633.  491210.  631106.  553471.  671598.  614814.  695349. 1372717.  276833.  381843.  461403.\n",
            "  454062.  365645.  800408.  916158.  939110.  714326. 1665832.  736605.  720753.  687184.  700942.  400234.  285561.  593599.  720712.  333643.  670916.  802636.  725724.\n",
            "  337850.  715171.  922488.  502259.  453612.  634687.  173067.  471849.  511818.  556377. 1557089.  707246.  600749.  310494.  381507.  657649.  574754. 1256464.  586906.\n",
            "  174735.  483501.  234605.  551547.  856864.  311098.  655498.  683441.  537205.  618366.  549505.  608391.  578913.  314947.  930801.  710887.  476759.  647750.  310473.\n",
            "  575762.  466005. 1053375.  754709.  582837.  712407.  731955.  425297.  211258.  334866.  635816. 1378116.  283457.  748924.  351066.  505643.  685595.  456594.  846733.\n",
            "  571802.  505643.  194054.  573950.  575591.  275888.  713792.  450751. 1390340.  597226.  763411.  533076.  437059.  552105.  491604.  548640.]\n",
            "The real y values for the test set are\t [ 525000.  575000.  179900.  599000.  795000.  503990.  875000.  232900.  469900.  349900.  725900.  600000.  425000.  226900.  649900. 1112885.  999999.  505000.  756500.\n",
            "  879000.  569900.  512000. 1699000.  561900.  689950. 1199000.  569900.  715000.  426990.  416990. 1375000.  497900.  529900.  875000.  509000.  237000.  440000.  840000.\n",
            "  827655. 1399000.  699900.  245000. 1345000.  505900.  850000.  750000.  689000.  589900.  639000.  421999.  650000.  445000.  456990.  630000.  975000.  564775.  341500.\n",
            "  505990.  406990.  359500.  349999.  369000.  508990.  450000.  739000.  329900.  735000. 1500000.  474990.  500000.  124900.  899000.  665000.  549900.  327000.  429000.\n",
            "  508000.  446900.  925000. 1050000. 1450000. 1199000.  795000.  750000.  659900.  479900.  564900.  478900.  574900.  534900.  613290. 1800000.  362500.  469900.  439990.\n",
            "  472900.  445000.  832140.  868000.  698980.  609900. 1818000.  874900.  669900.  935000.  530000.  325000.  339000.  511000.  875000.  369900.  769900.  698000.  729900.\n",
            "  389900.  774650. 1136900.  486990.  529000.  617500.  205900.  437990.  430000.  574900.  891846.  875000.  522000.  394000.  425000.  765135.  530000. 1595000.  534000.\n",
            "  119900.  436625.  224900.  564900.  840000.  369900.  827189.  840000.  763634.  615000.  854437.  511900.  735000.  319500.  799900.  651948.  490000.  599900.  229000.\n",
            "  522075.  509990. 1250000.  650000.  589900.  720000.  775000.  445000.  220000.  347000.  614900. 1005685.  360000.  699990.  324000.  477771.  750000.  465000.  785000.\n",
            "  930525.  450000.  189500.  655000.  571900.  364900.  575000.  475990. 1575000.  523900.  635000.  499990.  464500.  540000.  464900.  478900.]\n",
            "\n",
            "The weights are\t [634761.25790238 -34494.86485706 -81610.58952415  10254.95401817  15948.93520383 -16568.09362864 -10428.47503448 -36557.31328325 202954.09477335  29300.70217024 105893.24004436\n",
            "   2361.24955799 -18553.07931308  14100.13475879 100016.74287451  23103.78018092 -30947.09512776]\n",
            "\n",
            "The mean absolute error on the test set is\t 88908.15572230352 \n",
            "\n",
            "------------\n",
            "Using the lrSchedual gradient variant\n",
            "-------------\n",
            "Epoch  0\n",
            "Initial starting points:  [0.44199776 0.35667675 0.4447479  0.34188905 0.12671276 0.7031373  0.84192755 0.43810928 0.35955676 0.04049022 0.11381913 0.69844245 0.50531091 0.9076776  0.47448985 0.16126703\n",
            " 0.38532298]\n",
            "Gradient descent failed\n",
            "Initial starting points:  [0.98308743 0.21622134 0.96648123 0.30649332 0.13954218 0.71036322 0.41525537 0.15991879 0.62570517 0.59269188 0.77593965 0.0036728  0.64994984 0.91198422 0.39970756 0.87673872\n",
            " 0.61010897]\n",
            "Gradient descent failed\n",
            "Epoch  1\n",
            "Initial starting points:  [0.01229971 0.50865428 0.88890783 0.32269496 0.64690025 0.82887812 0.50660798 0.08245303 0.50264732 0.26655867 0.14985885 0.97468366 0.6563627  0.70499642 0.52623225 0.18845802\n",
            " 0.94870371]\n",
            "Gradient descent failed\n",
            "Initial starting points:  [0.55683217 0.83126372 0.71413631 0.4025885  0.62768768 0.0477856  0.33610411 0.0132933  0.76288735 0.13364018 0.43253505 0.27249334 0.53193091 0.45629105 0.79110306 0.69914103\n",
            " 0.7790472 ]\n",
            "Gradient descent failed\n",
            "Finding the best parameters at the epoch of  0\n",
            "\n",
            "Fitting time is 16.767405033111572\n",
            "\n",
            "Predicting the model...\n",
            "\n",
            "Prediction time is 9.083747863769531e-05\n",
            "\n",
            "The r^2 score is\t 0.9382950520219118\n",
            "\n",
            "The mean absolute error on the training set is\t 56305.727405389116\n",
            "\n",
            "The predicted y values for the test set are\t [ 494426.  726599.  194054.  660816.  614813.  502575. 1008868.  226799.  586574.  323530.  729905.  503266.  350834.  112098.  677598. 1381571. 1049112.  549131.  604425.\n",
            "  675969.  670583.  697544. 2013777.  566526.  773956. 1131719.  637799.  795734.  504825.  487537. 1247219.  436431.  550857.  773943.  524459.  271180.  442128.  706538.\n",
            " 1332974. 1012579.  649839.  278532. 1285201.  514297.  953049.  709082.  597628.  684080.  530024.  509711.  659097.  455158.  557709.  566622.  915671.  595047.  224909.\n",
            "  529318.  452727.  307972.  293040.  367541.  473323.  333771.  806697.  297080.  694482. 1394239.  453489.  492269.  135957. 1170284.  777386.  622023.  239845.  398314.\n",
            "  449971.  482928. 1162346. 1190989. 1173324. 1224957.  773417.  724045.  594633.  491210.  631106.  553471.  671598.  614814.  695349. 1372717.  276833.  381843.  461402.\n",
            "  454062.  365645.  800408.  916158.  939110.  714326. 1665832.  736605.  720753.  687184.  700942.  400234.  285561.  593599.  720712.  333643.  670916.  802636.  725724.\n",
            "  337850.  715171.  922488.  502259.  453612.  634687.  173067.  471849.  511818.  556377. 1557089.  707246.  600749.  310494.  381507.  657649.  574754. 1256464.  586906.\n",
            "  174735.  483501.  234605.  551547.  856864.  311098.  655498.  683441.  537205.  618366.  549505.  608391.  578913.  314947.  930801.  710887.  476759.  647750.  310473.\n",
            "  575762.  466005. 1053375.  754709.  582837.  712407.  731955.  425297.  211258.  334866.  635816. 1378116.  283457.  748924.  351066.  505643.  685595.  456594.  846733.\n",
            "  571802.  505643.  194054.  573950.  575591.  275888.  713792.  450751. 1390340.  597226.  763411.  533076.  437059.  552105.  491604.  548640.]\n",
            "The real y values for the test set are\t [ 525000.  575000.  179900.  599000.  795000.  503990.  875000.  232900.  469900.  349900.  725900.  600000.  425000.  226900.  649900. 1112885.  999999.  505000.  756500.\n",
            "  879000.  569900.  512000. 1699000.  561900.  689950. 1199000.  569900.  715000.  426990.  416990. 1375000.  497900.  529900.  875000.  509000.  237000.  440000.  840000.\n",
            "  827655. 1399000.  699900.  245000. 1345000.  505900.  850000.  750000.  689000.  589900.  639000.  421999.  650000.  445000.  456990.  630000.  975000.  564775.  341500.\n",
            "  505990.  406990.  359500.  349999.  369000.  508990.  450000.  739000.  329900.  735000. 1500000.  474990.  500000.  124900.  899000.  665000.  549900.  327000.  429000.\n",
            "  508000.  446900.  925000. 1050000. 1450000. 1199000.  795000.  750000.  659900.  479900.  564900.  478900.  574900.  534900.  613290. 1800000.  362500.  469900.  439990.\n",
            "  472900.  445000.  832140.  868000.  698980.  609900. 1818000.  874900.  669900.  935000.  530000.  325000.  339000.  511000.  875000.  369900.  769900.  698000.  729900.\n",
            "  389900.  774650. 1136900.  486990.  529000.  617500.  205900.  437990.  430000.  574900.  891846.  875000.  522000.  394000.  425000.  765135.  530000. 1595000.  534000.\n",
            "  119900.  436625.  224900.  564900.  840000.  369900.  827189.  840000.  763634.  615000.  854437.  511900.  735000.  319500.  799900.  651948.  490000.  599900.  229000.\n",
            "  522075.  509990. 1250000.  650000.  589900.  720000.  775000.  445000.  220000.  347000.  614900. 1005685.  360000.  699990.  324000.  477771.  750000.  465000.  785000.\n",
            "  930525.  450000.  189500.  655000.  571900.  364900.  575000.  475990. 1575000.  523900.  635000.  499990.  464500.  540000.  464900.  478900.]\n",
            "\n",
            "The weights are\t [634761.25817288 -34494.86410093 -81610.58936594  10255.36850504  15948.53968866 -16568.21767633 -10428.47488135 -36557.31322574 202954.09616415  29300.70224999 105893.24041719\n",
            "   2361.25019379 -18553.07954235  14100.13439633 100016.74272514  23103.78085249 -30947.09509123]\n",
            "\n",
            "The mean absolute error on the test set is\t 88908.15527865576 \n",
            "\n"
          ]
        }
      ]
    },
    {
      "cell_type": "markdown",
      "source": [
        "# Problem 2 Logistic Classification"
      ],
      "metadata": {
        "id": "cfam-mjDeHJt"
      }
    },
    {
      "cell_type": "markdown",
      "source": [
        "##Pre_6. Re-Buiding BinaryLogisticClassifier() model for breast_cancer dataset combination with explicit gradient method"
      ],
      "metadata": {
        "id": "aERVwGhWsQys"
      }
    },
    {
      "cell_type": "code",
      "source": [
        "class BinaryLogisticClassifier():\n",
        "    # fit the model to the data\n",
        "    def fit(self,  X, y, w0, alpha, h, tolerance, max_iterations, explicit = False ):\n",
        "\n",
        "        X = np.hstack((np.ones([X.shape[0], 1]), X))\n",
        "\n",
        "        # find the w values that minimize the sum of squared errors via gradient descent\n",
        "        L = lambda w: ((self.sigmoid(X @ w)).T - y.T) @ (self.sigmoid(X @ w) - y)\n",
        "\n",
        "        self.w = self.gradientDescent(X, L, y, w0, alpha, h, tolerance, max_iterations, use_explicit_gradient = explicit)\n",
        "\n",
        "    def sigmoid(self, z):\n",
        "        return 1/(1+np.exp(-z))\n",
        "    # predict the output from testing data\n",
        "    def predict(self, X):\n",
        "        # adding a column in to X matrix as intercept\n",
        "        X = np.hstack((np.ones([X.shape[0],1]), X))\n",
        "        return self.sigmoid(X @ self.w)\n",
        "\n",
        "    # run gradient descent and output the coordinates of the estimated critical point\n",
        "    def gradientDescent(self, X, f, y, x0, alpha, h, tolerance, maxIterations, use_explicit_gradient = False):\n",
        "        # set x equal to the initial guess\n",
        "        x = x0\n",
        "\n",
        "        # take up to maxIterations number of steps\n",
        "        for counter in range(maxIterations):\n",
        "            if use_explicit_gradient:\n",
        "              gradient = self.compute_explicit_gradient(X, y, x0)\n",
        "            else:\n",
        "              gradient = self.computeGradient(f, x, h)\n",
        "\n",
        "            # stop if the norm of the gradient is near 0 (success)\n",
        "            if np.linalg.norm(gradient) < tolerance:\n",
        "                print('Gradient descent took', counter, 'iterations to converge')\n",
        "                # print('The norm of the gradient is', np.linalg.norm(gradient))\n",
        "\n",
        "                # return the approximate critical point x\n",
        "                return x\n",
        "\n",
        "            # print a message if we do not converge (failure)\n",
        "            elif counter == maxIterations-1:\n",
        "                print(\"Gradient descent failed\")\n",
        "                # print('The gradient is', gradient)\n",
        "\n",
        "                # return x, sometimes it is still pretty good\n",
        "                return x\n",
        "\n",
        "            # take a step in the opposite direction as the gradient\n",
        "            x -= alpha*gradient\n",
        "\n",
        "    # estimate the gradient\n",
        "    def computeGradient(self, f, x, h):\n",
        "        n = len(x)\n",
        "        gradient = np.zeros(n)\n",
        "\n",
        "        for counter in range(n):\n",
        "            xUp = x.copy()\n",
        "            xUp[counter] += h\n",
        "            gradient[counter] = (f(xUp) - f(x))/h\n",
        "\n",
        "        return gradient\n",
        "\n",
        "    # Explicit gradient\n",
        "    def compute_explicit_gradient(self, X, y, w):\n",
        "\n",
        "        gradient = 2 *np.dot(X.T, (self.sigmoid(np.dot(X, w)) - y))\n",
        "\n",
        "        return gradient\n"
      ],
      "metadata": {
        "id": "UHspHCmxC2RY"
      },
      "execution_count": null,
      "outputs": []
    },
    {
      "cell_type": "code",
      "source": [
        "from sklearn.datasets import load_breast_cancer\n",
        "from sklearn.model_selection import train_test_split\n",
        "# read the breast cancer dataset\n",
        "breast_cancer_data = load_breast_cancer()\n",
        "\n",
        "# find the data and labels\n",
        "X = breast_cancer_data.data\n",
        "Y = np.array(breast_cancer_data.target, dtype= float)\n",
        "\n",
        "\n",
        "# split the data into training and test sets\n",
        "trainX, testX, trainY, testY = train_test_split(X, Y, train_size = 0.75, random_state =42)\n",
        "\n",
        "trainX = (trainX - np.mean(trainX, axis=0))/np.std(trainX, axis = 0)\n",
        "testX = (testX - np.mean(testX, axis=0))/np.std(testX, axis = 0)\n"
      ],
      "metadata": {
        "id": "ozQETRKHHPz3"
      },
      "execution_count": null,
      "outputs": []
    },
    {
      "cell_type": "markdown",
      "source": [
        "Test model using numerical gradient"
      ],
      "metadata": {
        "id": "XxtWXR-U3B5S"
      }
    },
    {
      "cell_type": "code",
      "source": [
        "model = BinaryLogisticClassifier()\n",
        "\n",
        "model.fit(trainX, trainY, (trainX.shape[1] +1)*[0], 0.001, 0.001, 0.001, 10000, explicit = False)\n",
        "predictedY = model.predict(trainX)\n",
        "\n",
        "plt.plot(predictedY, '.')"
      ],
      "metadata": {
        "colab": {
          "base_uri": "https://localhost:8080/",
          "height": 466
        },
        "id": "Zs0_th1r4csm",
        "outputId": "ddb5aa39-cba5-4f94-cd07-a027d78c3259"
      },
      "execution_count": null,
      "outputs": [
        {
          "output_type": "stream",
          "name": "stdout",
          "text": [
            "Gradient descent failed\n"
          ]
        },
        {
          "output_type": "execute_result",
          "data": {
            "text/plain": [
              "[<matplotlib.lines.Line2D at 0x7f278ae25c30>]"
            ]
          },
          "metadata": {},
          "execution_count": 239
        },
        {
          "output_type": "display_data",
          "data": {
            "text/plain": [
              "<Figure size 640x480 with 1 Axes>"
            ],
            "image/png": "[encoded data removed]"
          },
          "metadata": {}
        }
      ]
    },
    {
      "cell_type": "markdown",
      "source": [
        "Test model using explicit gradient"
      ],
      "metadata": {
        "id": "AesE9WSN3GOf"
      }
    },
    {
      "cell_type": "code",
      "source": [
        "model = BinaryLogisticClassifier()\n",
        "\n",
        "model.fit(trainX, trainY, (trainX.shape[1] +1)*[0], 0.001, 0.001, 0.001, 10000, explicit = True)\n",
        "predictedY = model.predict(trainX)\n",
        "\n",
        "plt.plot(predictedY, '.')"
      ],
      "metadata": {
        "colab": {
          "base_uri": "https://localhost:8080/",
          "height": 503
        },
        "id": "Mok42wna5DrK",
        "outputId": "79c5e2e0-cedd-4576-85df-8c9bfd2b699b"
      },
      "execution_count": null,
      "outputs": [
        {
          "output_type": "stream",
          "name": "stdout",
          "text": [
            "Gradient descent failed\n"
          ]
        },
        {
          "output_type": "stream",
          "name": "stderr",
          "text": [
            "<ipython-input-237-5ff6ba6d33c5>:13: RuntimeWarning: overflow encountered in exp\n",
            "  return 1/(1+np.exp(-z))\n"
          ]
        },
        {
          "output_type": "execute_result",
          "data": {
            "text/plain": [
              "[<matplotlib.lines.Line2D at 0x7f278ac34c10>]"
            ]
          },
          "metadata": {},
          "execution_count": 240
        },
        {
          "output_type": "display_data",
          "data": {
            "text/plain": [
              "<Figure size 640x480 with 1 Axes>"
            ],
            "image/png": "[encoded data removed]"
          },
          "metadata": {}
        }
      ]
    },
    {
      "cell_type": "markdown",
      "source": [
        "##6 & 7. Mutil classes classifier Using \"Cross-entropy loss\" with two options\n",
        "(1) numerical gradient\n",
        "\n",
        "(2) explicit gradient (exact gradient from the loss function)\n",
        "\n",
        "###Notes: In this problem, I use Cross-entropy loss istead of MSE loss\n"
      ],
      "metadata": {
        "id": "PuJbqQ94SYGT"
      }
    },
    {
      "cell_type": "code",
      "source": [
        "class v3MultiLogisticClassifier():\n",
        "    def fit(self, X, y, w0, alpha, h, tolerance, max_iterations, explicit=False):\n",
        "        X = np.hstack((np.ones([X.shape[0], 1]), X))\n",
        "        num_samples = len(y)\n",
        "\n",
        "        epsilon = 1e-15  # Small constant to avoid division by zero or taking log of zero\n",
        "\n",
        "        # cross-entropy loss\n",
        "        L = lambda w: -np.sum(np.multiply(y, np.log(np.clip(self.softmax(X @ w), epsilon, 1 - epsilon)))) / num_samples\n",
        "\n",
        "        self.w = self.gradientDescent(X, L, y, w0, alpha, h, tolerance, max_iterations, use_explicit_gradient=explicit)\n",
        "\n",
        "        return self.w\n",
        "\n",
        "    def softmax(self, z):\n",
        "        e_z = np.exp(z - np.max(z, axis=1, keepdims=True))\n",
        "        return e_z / e_z.sum(axis=1, keepdims=True)\n",
        "\n",
        "    def predict(self, X):\n",
        "        X = np.hstack((np.ones([X.shape[0], 1]), X))\n",
        "        scores = X @ self.w\n",
        "        probabilities = self.softmax(scores)\n",
        "        return  np.argmax(probabilities, axis=1)\n",
        "\n",
        "    def gradientDescent(self, X, f, y, w0, alpha, h, tolerance, maxIterations, use_explicit_gradient=False):\n",
        "        # Initialize x (weights) with the same shape as w0\n",
        "        x = w0.copy()\n",
        "\n",
        "        # take up to maxIterations number of steps\n",
        "        for counter in range(maxIterations):\n",
        "            if use_explicit_gradient:\n",
        "              gradient = self.compute_explicit_gradient(X, y, x)\n",
        "            else:\n",
        "              gradient = self.computeGradient(f, x, h)\n",
        "\n",
        "            # stop if the norm of the gradient is near 0 (success)\n",
        "            if np.linalg.norm(gradient) < tolerance:\n",
        "                print('Gradient descent took', counter, 'iterations to converge')\n",
        "\n",
        "                # return the approximate critical point x\n",
        "                return x\n",
        "\n",
        "            # print a message if we do not converge (failure)\n",
        "            elif counter == maxIterations-1:\n",
        "                print(\"Gradient descent failed\")\n",
        "                # print('The gradient is', gradient)\n",
        "\n",
        "                return x\n",
        "            # print(X.shape, x.shape, gradient.shape)\n",
        "            # take a step in the opposite direction as the gradient\n",
        "            x -= alpha*gradient\n",
        "\n",
        "    # estimate the gradient\n",
        "    def computeGradient(self, f, x, h):\n",
        "        n =  x.shape[0]\n",
        "        gradient = np.zeros((x.shape[0], x.shape[1]))\n",
        "        fx = f(x)\n",
        "\n",
        "        for count in range(n):\n",
        "            xUp = x.copy()\n",
        "            xUp[count] += h\n",
        "            gradient[count] = (f(xUp) - fx)/h\n",
        "        return gradient\n",
        "\n",
        "    # Explicit gradient\n",
        "    def compute_explicit_gradient(self, X, y, w):\n",
        "        N = len(y)\n",
        "        gradient = (1/N) *np.dot(X.T, (self.softmax(X@ w) - y))\n",
        "        # print(gradient.shape)\n",
        "        return gradient\n",
        "\n"
      ],
      "metadata": {
        "id": "0SBKUOB6STxz"
      },
      "execution_count": null,
      "outputs": []
    },
    {
      "cell_type": "markdown",
      "source": [
        "### Test on MNIST dataset"
      ],
      "metadata": {
        "id": "kagdpsSz6qYL"
      }
    },
    {
      "cell_type": "code",
      "source": [
        "from sklearn import datasets\n",
        "from sklearn.datasets import fetch_openml\n",
        "from sklearn.model_selection import train_test_split\n",
        "from sklearn.preprocessing import LabelBinarizer\n",
        "from sklearn.preprocessing import OneHotEncoder\n",
        "import numpy as np\n",
        "\n",
        "# Load the MNIST dataset from scikit-learn\n",
        "# mnist = fetch_openml(\"mnist_784\")\n",
        "mnist = datasets.load_digits()\n",
        "X = mnist.data.astype(float)\n",
        "y = mnist.target.astype(int)\n",
        "\n",
        "# Split the dataset into training and testing sets\n",
        "X_train, X_test, y_train, y_test = train_test_split(X, y, test_size=0.2, random_state=42)\n",
        "\n",
        "# Initialize your MultiLogisticClassifier\n",
        "clf = v3MultiLogisticClassifier()\n",
        "\n",
        "# Set hyperparameters\n",
        "alpha = 0.001\n",
        "h = 0.01\n",
        "tolerance = 1e-4\n",
        "max_iterations = 10000\n",
        "explicit = True\n",
        "\n",
        "num_features = X_train.shape[1] + 1  # Plus one for the bias term\n",
        "num_classes = len(np.unique(y_train))\n",
        "\n",
        "w0 = np.random.rand(num_features, num_classes)*0.001\n",
        "\n",
        "# Convert class labels to one-hot encoded labels\n",
        "encoder = LabelBinarizer()\n",
        "y_train_encoded = encoder.fit_transform(y_train)\n",
        "y_test_encoded = encoder.transform(y_test)\n",
        "\n",
        "\n",
        "# Fit the model on the training data\n",
        "clf.fit(X_train, y_train_encoded, w0, alpha, h, tolerance, max_iterations, explicit)\n",
        "\n",
        "# Make predictions on the test data\n",
        "y_pred = clf.predict(X_test)\n",
        "\n",
        "# Calculate accuracy\n",
        "accuracy = np.mean(y_pred == y_test)\n",
        "print(\"Accuracy:\", accuracy)\n"
      ],
      "metadata": {
        "colab": {
          "base_uri": "https://localhost:8080/"
        },
        "id": "d0RCPTbCTbAQ",
        "outputId": "fe364eed-33bc-4ce6-efcb-42c6fffb9f39"
      },
      "execution_count": null,
      "outputs": [
        {
          "output_type": "stream",
          "name": "stdout",
          "text": [
            "Gradient descent failed\n",
            "Accuracy: 0.975\n"
          ]
        }
      ]
    },
    {
      "cell_type": "markdown",
      "source": [
        "###Plot the result"
      ],
      "metadata": {
        "id": "xshXeCFxck9T"
      }
    },
    {
      "cell_type": "code",
      "source": [
        "_, axes = plt.subplots(nrows=1, ncols=5, figsize=(10, 3))\n",
        "for ax, image, prediction in zip(axes, X_test, y_pred):\n",
        "    ax.set_axis_off()\n",
        "    image = image.reshape(8, 8)\n",
        "    ax.imshow(image, cmap=plt.cm.gray_r, interpolation=\"nearest\")\n",
        "    ax.set_title(f\"Prediction: {prediction}\")"
      ],
      "metadata": {
        "colab": {
          "base_uri": "https://localhost:8080/",
          "height": 192
        },
        "id": "iXZTmjEuLnj4",
        "outputId": "fdffb9b9-c6b6-483f-fcb3-8319d8bc22fb"
      },
      "execution_count": null,
      "outputs": [
        {
          "output_type": "display_data",
          "data": {
            "text/plain": [
              "<Figure size 1000x300 with 5 Axes>"
            ],
            "image/png": "[encoded data removed]"
          },
          "metadata": {}
        }
      ]
    },
    {
      "cell_type": "markdown",
      "source": [
        "##8.  Add functionality to optimize models using the three variants of gradient descent from Problems 2-4."
      ],
      "metadata": {
        "id": "8CPccA4B562E"
      }
    },
    {
      "cell_type": "markdown",
      "source": [
        "### Adding functionalities\n",
        "\n",
        "(1) Single gradient\n",
        "\n",
        "(2) Using mutil-initial points gradient\n",
        "\n",
        "(3) Using cyclic learning rate gradient"
      ],
      "metadata": {
        "id": "bVKGFHO-vwDn"
      }
    },
    {
      "cell_type": "code",
      "source": [
        "class Classifier():\n",
        "\n",
        "    def fit(self, num_epochs, num_points, X, y, w0, alpha, h, tolerance, max_iterations, gradient_type: str, explicit = False):\n",
        "\n",
        "        X = np.hstack((np.ones([X.shape[0], 1]), X))\n",
        "\n",
        "        num_samples = len(y)\n",
        "        epsilon = 1e-15  # Small constant to avoid division by zero or taking log of zero\n",
        "\n",
        "        L = lambda w: -np.sum(np.multiply(y, np.log(np.clip(self.softmax(X @ w), epsilon, 1 - epsilon)))) / num_samples\n",
        "\n",
        "        # 8. Add functionality to optimize models ['simple' 'multipoint' 'lrSchedual']\n",
        "        if gradient_type == 'simple':\n",
        "          print(f'------------\\nUsing the {gradient_type} gradient variant\\n-------------')\n",
        "          self.w = self.gradientDescent( X, L, y, w0, alpha, h, tolerance, max_iterations, explicit)\n",
        "          self.all = None\n",
        "\n",
        "        elif gradient_type == 'multipoint':\n",
        "          print(f'------------\\nUsing the {gradient_type} gradient variant\\n-------------')\n",
        "          self.w, _ , _ = self.run_optimization(num_points, X, L, y, alpha, h, tolerance, max_iterations, explicit = explicit)\n",
        "\n",
        "        elif gradient_type == 'lrSchedual':\n",
        "          print(f'------------\\nUsing the {gradient_type} gradient variant\\n-------------')\n",
        "          self.w, _, self.all = self.gradient_descent_lrSchedual(num_epochs, num_points, X, L, y, alpha, h, tolerance, max_iterations, explicit)\n",
        "\n",
        "        return self.w\n",
        "\n",
        "    def softmax(self, z):\n",
        "        e_z = np.exp(z - np.max(z, axis=1, keepdims=True))\n",
        "        return e_z / e_z.sum(axis=1, keepdims=True)\n",
        "\n",
        "    # predict the output from testing data\n",
        "    def predict(self, X):\n",
        "        # adding a column in to X matrix as intercept\n",
        "        X = np.hstack((np.ones([X.shape[0],1]), X))\n",
        "        # if self.all is None:\n",
        "        scores = X @ self.w\n",
        "        probabilities = self.softmax(scores)\n",
        "\n",
        "        return np.argmax(probabilities, axis=1)\n",
        "\n",
        "    # 2. Gradient Descent with n random points\n",
        "    def run_optimization(self, num_points, X, f, y, alpha, h, tolerance, maxIterations, explicit = True):\n",
        "        best_params = None\n",
        "        best_loss = float('inf')\n",
        "        all_weight = []\n",
        "\n",
        "        for _ in range(num_points):\n",
        "            # Generate a random starting point\n",
        "            initial_theta = np.random.rand(X.shape[1], y.shape[1])\n",
        "            print('Initial starting points: ', initial_theta.shape )\n",
        "\n",
        "            optimized_theta = self.gradientDescent( X, f, y, initial_theta, alpha, h, tolerance, max_iterations, explicit)\n",
        "\n",
        "            # Calculate the loss for the optimized parameters\n",
        "            current_loss = f(optimized_theta)\n",
        "\n",
        "            # Check if this run has the lowest loss so far\n",
        "            if current_loss < best_loss:\n",
        "                best_loss = current_loss\n",
        "                best_params = optimized_theta\n",
        "\n",
        "            all_weight.append(optimized_theta)\n",
        "\n",
        "        return best_params, best_loss, all_weight\n",
        "\n",
        "    # gradient with epoch\n",
        "    def gradient_descent_lrSchedual(self, num_epochs, num_points, X, f, y, alpha, h, tolerance, maxIterations, explicit):\n",
        "        # Gradient Descent optimization algorithm with cyclic learning rate.\n",
        "        best_params = None\n",
        "        best_loss = float('inf')\n",
        "        all_best_w = []\n",
        "        all_best_loss = []\n",
        "\n",
        "        for epoch in range(num_epochs):\n",
        "            learning_rate = alpha / (epoch + 1) # reduce learning rate for every epoch\n",
        "            print('Epoch ', epoch)\n",
        "            x, loss , all_weights = self.run_optimization(num_points, X, f, y, alpha, h, tolerance, maxIterations, explicit = explicit)\n",
        "\n",
        "            # Save parameters every time the learning rate vanishes\n",
        "            np.savetxt(f\"model_parameters_epoch_{epoch}.txt\", x)\n",
        "\n",
        "            # Calculate the loss for the optimized parameters\n",
        "            current_loss = loss\n",
        "\n",
        "            # Check if this run has the lowest loss so far\n",
        "            if current_loss < best_loss:\n",
        "                best_loss = current_loss\n",
        "                best_params = x\n",
        "                best_epoch = epoch\n",
        "        all_best_w.append(best_params)\n",
        "        all_best_loss.append(best_loss)\n",
        "        print('Finding the best parameters at the epoch of ', best_epoch)\n",
        "\n",
        "        return best_params, all_best_loss, all_best_w\n",
        "\n",
        "    def gradientDescent(self, X, f, y, w0, alpha, h, tolerance, maxIterations, use_explicit_gradient= True):\n",
        "        # Initialize x (weights) with the same shape as w0\n",
        "        x = w0.copy()\n",
        "\n",
        "        # take up to maxIterations number of steps\n",
        "        for counter in range(maxIterations):\n",
        "            if use_explicit_gradient:\n",
        "              gradient = self.compute_explicit_gradient(X, y, x)\n",
        "            else:\n",
        "              gradient = self.computeGradient(f, x, h)\n",
        "\n",
        "            # stop if the norm of the gradient is near 0 (success)\n",
        "            if np.linalg.norm(gradient) < tolerance:\n",
        "                print('Gradient descent took', counter, 'iterations to converge')\n",
        "\n",
        "                return x\n",
        "\n",
        "            # print a message if we do not converge (failure)\n",
        "            elif counter == maxIterations-1:\n",
        "                print(\"Gradient descent failed\")\n",
        "\n",
        "                return x\n",
        "            # take a step in the opposite direction as the gradient\n",
        "            x -= alpha*gradient\n",
        "\n",
        "    # estimate the gradient\n",
        "    def computeGradient(self, f, x, h):\n",
        "        n =  x.shape[0]\n",
        "        gradient = np.zeros((x.shape[0], x.shape[1]))\n",
        "        fx = f(x)\n",
        "\n",
        "        for count in range(n):\n",
        "            xUp = x.copy()\n",
        "            xUp[count] += h\n",
        "            gradient[count] = (f(xUp) - fx)/h\n",
        "        return gradient\n",
        "\n",
        "    # Explicit gradient\n",
        "    def compute_explicit_gradient(self, X, y, w):\n",
        "        N = len(y)\n",
        "        # print(self.softmax(X@ w).shape, len(y))\n",
        "\n",
        "        gradient = (1/N) *np.dot(X.T, (self.softmax(np.dot(X, w)) - y))\n",
        "\n",
        "        return gradient\n"
      ],
      "metadata": {
        "id": "-dHwHJ0ScxTD"
      },
      "execution_count": null,
      "outputs": []
    },
    {
      "cell_type": "markdown",
      "source": [
        "###Test the added functions on the MNIST dataset"
      ],
      "metadata": {
        "id": "0-yaUco1vmqF"
      }
    },
    {
      "cell_type": "code",
      "source": [
        "from sklearn import datasets\n",
        "from sklearn.datasets import fetch_openml\n",
        "from sklearn.model_selection import train_test_split\n",
        "from sklearn.preprocessing import LabelBinarizer\n",
        "from sklearn.preprocessing import OneHotEncoder\n",
        "import numpy as np\n",
        "\n",
        "# Load the MNIST dataset from scikit-learn\n",
        "mnist = datasets.load_digits()\n",
        "X = mnist.data.astype(float)\n",
        "y = mnist.target.astype(int)\n",
        "\n",
        "# Split the dataset into training and testing sets\n",
        "X_train, X_test, y_train, y_test = train_test_split(X, y, test_size=0.25, random_state=42)\n",
        "\n",
        "# Set hyperparameters\n",
        "alpha = 0.001\n",
        "h = 0.01\n",
        "tolerance = 1e-4\n",
        "max_iterations = 10000\n",
        "explicits = [True]\n",
        "\n",
        "num_features = X_train.shape[1] + 1  # Plus one for the bias term\n",
        "num_classes = len(np.unique(y_train))\n",
        "\n",
        "w0 = np.random.rand(num_features, num_classes)*0.001\n",
        "\n",
        "# Convert class labels to one-hot encoded labels\n",
        "encoder = LabelBinarizer()\n",
        "y_train_encoded = encoder.fit_transform(y_train)\n",
        "y_test_encoded = encoder.transform(y_test)\n",
        "\n",
        "num_epochs, num_points = 2, 1\n",
        "\n",
        "gradient_type = ['lrSchedual'] #  'simple' 'multipoint' 'lrSchedual'\n",
        "\n",
        "\n",
        "for explicit in explicits:\n",
        "  if explicit: print('\\nUsing explicit gradient')\n",
        "  else: print('\\nUsing numerical gradient method')\n",
        "  for g_type in gradient_type:\n",
        "    model = Classifier()\n",
        "    model.fit(num_epochs, num_points,X_train, y_train_encoded, w0, alpha, h, tolerance, max_iterations, gradient_type = g_type, explicit = explicit)\n",
        "\n",
        "    prediction = model.predict(X_test)\n",
        "    accuracy = np.mean(prediction == y_test)\n",
        "    print(\"Accuracy:\", accuracy)\n",
        "\n",
        "    print('Mean of predictions: ', prediction)\n",
        "    print('\\nReal values: ', y_test)"
      ],
      "metadata": {
        "colab": {
          "base_uri": "https://localhost:8080/"
        },
        "id": "-QVg4EbQc8KM",
        "outputId": "f249b5a2-2fef-4e20-b8e6-1e78a39ad39c"
      },
      "execution_count": null,
      "outputs": [
        {
          "output_type": "stream",
          "name": "stdout",
          "text": [
            "\n",
            "Using explicit gradient\n",
            "------------\n",
            "Using the lrSchedual gradient variant\n",
            "-------------\n",
            "Epoch  0\n",
            "Initial starting points:  (65, 10)\n",
            "Gradient descent failed\n",
            "Epoch  1\n",
            "Initial starting points:  (65, 10)\n",
            "Gradient descent failed\n",
            "Finding the best parameters at the epoch of  0\n",
            "Accuracy: 0.9444444444444444\n",
            "Mean of predictions:  [6 9 3 7 2 1 5 2 5 2 3 4 4 0 4 2 3 7 8 8 4 3 9 7 5 6 3 5 6 3 4 9 1 4 4 6 9 4 7 6 6 9 1 3 6 1 3 0 6 5 5 1 9 5 6 0 9 0 0 1 5 4 5 2 4 5 7 0 7 5 9 5 5 4 7 0 1 5 5 9 9 0 2 3 8 0 6 4 4\n",
            " 9 1 2 8 3 5 2 8 0 4 4 1 3 5 3 1 3 5 9 4 2 7 7 4 4 1 9 2 7 8 7 2 6 9 4 0 7 2 7 5 6 7 5 7 7 0 6 6 4 2 8 0 9 4 6 9 9 6 9 0 3 5 6 6 0 6 4 3 9 3 9 7 2 9 0 4 5 3 6 5 9 9 8 4 2 1 3 7 7\n",
            " 2 2 3 9 8 0 3 2 3 5 6 9 9 4 1 0 4 2 3 6 4 8 5 9 5 7 1 9 4 8 1 5 4 4 9 6 1 8 6 0 4 5 2 7 1 6 4 5 6 0 3 2 3 6 7 1 5 1 4 7 6 5 8 5 4 1 5 2 8 8 4 5 7 6 2 2 2 3 4 8 9 3 6 0 9 7 7 0 1\n",
            " 0 4 5 1 5 3 6 0 4 1 0 0 3 6 5 9 7 3 5 5 9 9 8 5 3 3 2 0 5 8 3 4 0 2 4 6 4 3 4 5 0 5 2 1 3 1 4 1 1 7 0 1 5 2 1 2 8 7 0 6 4 8 1 5 1 8 4 5 8 7 9 8 6 0 6 2 0 7 9 8 9 5 2 7 7 1 8 7 4\n",
            " 3 8 3 5 6 0 0 3 0 5 0 0 4 1 8 8 4 5 9 6 3 4 8 8 4 2 3 6 9 8 8 5 0 6 3 3 7 1 6 4 1 2 1 1 5 4 7 4 8 3 4 0 5 1 9 4 5 7 6 3 7 0 5 9 7 5 9 7 4 2 1 9 0 7 5 2 3 6 3 9 6 9 5 0 1 5 5 8 7\n",
            " 3 6 2 6 5]\n",
            "\n",
            "Real values:  [6 9 3 7 2 1 5 2 5 2 1 9 4 0 4 2 3 7 8 8 4 3 9 7 5 6 3 5 6 3 4 9 1 4 4 6 9 4 7 6 6 9 1 3 6 1 3 0 6 5 5 1 9 5 6 0 9 0 0 1 0 4 5 2 4 5 7 0 7 5 9 5 5 4 7 0 4 5 5 9 9 0 2 3 8 0 6 4 4\n",
            " 9 1 2 8 3 5 2 9 0 4 4 4 3 5 3 1 3 5 9 4 2 7 7 4 4 1 9 2 7 8 7 2 6 9 4 0 7 2 7 5 8 7 5 7 7 0 6 6 4 2 8 0 9 4 6 9 9 6 9 0 3 5 6 6 0 6 4 3 9 3 9 7 2 9 0 4 5 3 6 5 9 9 8 4 2 1 3 7 7\n",
            " 2 2 3 9 8 0 3 2 2 5 6 9 9 4 1 5 4 2 3 6 4 8 5 9 5 7 8 9 4 8 1 5 4 4 9 6 1 8 6 0 4 5 2 7 4 6 4 5 6 0 3 2 3 6 7 1 5 1 4 7 6 8 8 5 5 1 6 2 8 8 9 9 7 6 2 2 2 3 4 8 8 3 6 0 9 7 7 0 1\n",
            " 0 4 5 1 5 3 6 0 4 1 0 0 3 6 5 9 7 3 5 5 9 9 8 5 3 3 2 0 5 8 3 4 0 2 4 6 4 3 4 5 0 5 2 1 3 1 4 1 1 7 0 1 5 2 1 2 8 7 0 6 4 8 8 5 1 8 4 5 8 7 9 8 5 0 6 2 0 7 9 8 9 5 2 7 7 1 8 7 4\n",
            " 3 8 3 5 6 0 0 3 0 5 0 0 4 1 2 8 4 5 9 6 3 1 8 8 4 2 3 8 9 8 8 5 0 6 3 3 7 1 6 4 1 2 1 1 6 4 7 4 8 3 4 0 5 1 9 4 5 7 6 3 7 0 5 9 7 5 9 7 4 2 1 9 0 7 5 3 3 6 3 9 6 9 5 0 1 5 5 8 3\n",
            " 3 6 2 6 5]\n"
          ]
        }
      ]
    },
    {
      "cell_type": "markdown",
      "source": [
        "##9. Apply your classifier and all six variants of gradient descent on the MNIST dataset from sklearn"
      ],
      "metadata": {
        "id": "LUzTBeLK6CgM"
      }
    },
    {
      "cell_type": "code",
      "source": [
        "from sklearn import datasets\n",
        "from sklearn.datasets import fetch_openml\n",
        "from sklearn.model_selection import train_test_split\n",
        "from sklearn.preprocessing import LabelBinarizer\n",
        "from sklearn.preprocessing import OneHotEncoder\n",
        "import numpy as np\n",
        "\n",
        "# Load the MNIST dataset from scikit-learn\n",
        "mnist = datasets.load_digits()\n",
        "X = mnist.data.astype(float)\n",
        "y = mnist.target.astype(int)\n",
        "\n",
        "# Split the dataset into training and testing sets\n",
        "X_train, X_test, y_train, y_test = train_test_split(X, y, test_size=0.25, random_state=42)\n",
        "\n",
        "# Convert class labels to one-hot encoded labels\n",
        "encoder = LabelBinarizer()\n",
        "y_train_encoded = encoder.fit_transform(y_train)\n",
        "y_test_encoded = encoder.transform(y_test)\n",
        "\n",
        "# Set hyperparameters\n",
        "alpha = 0.001\n",
        "h = 0.01\n",
        "tolerance = 1e-4\n",
        "max_iterations = 10000\n",
        "\n",
        "num_features = X_train.shape[1] + 1  # Plus one for the bias term\n",
        "num_classes = len(np.unique(y_train))\n",
        "\n",
        "w0 = np.random.rand(num_features, num_classes)*0.001\n",
        "\n",
        "explicits = [True, False]\n",
        "gradient_type = ['simple', 'multipoint', 'lrSchedual']\n",
        "num_epochs = 2\n",
        "num_points = 2 # sets initial values\n",
        "\n",
        "for explicit in explicits:\n",
        "  if explicit: print('\\nUsing explicit gradient\\n-------------------------------------------------------------')\n",
        "  else: print('\\nUsing numerical gradient method\\n-------------------------------------------------------------')\n",
        "\n",
        "  for g_type in gradient_type:\n",
        "    model = Classifier()\n",
        "    # fitting model\n",
        "    fstart = time.time()\n",
        "    model.fit(num_epochs, num_points,X_train, y_train_encoded, w0, alpha, h, tolerance, max_iterations, gradient_type = g_type, explicit = explicit)\n",
        "    fend = time.time()\n",
        "    print(f\"\\nFitting time is {fend - fstart}\")\n",
        "    print('\\nPredicting the model...\\n')\n",
        "\n",
        "    trainPredictions_num_all = model.predict(X)\n",
        "\n",
        "    pstart = time.time()\n",
        "    trainPredictions_num = model.predict(X_train)\n",
        "    pend = time.time()\n",
        "    print(f\"Prediction time is {pend - pstart}\")\n",
        "\n",
        "    prediction = model.predict(X_test)\n",
        "    accuracy = np.mean(prediction == y_test)\n",
        "    print(\"Accuracy:\", accuracy)\n",
        "\n",
        "    print('Mean of predictions: ', prediction)\n",
        "    print('\\nReal values: ', y_test)\n",
        "\n",
        "    print('\\nThe r^2 score is\\t', r2_score(y_train, trainPredictions_num))\n",
        "\n",
        "\n",
        "    # print quality metrics\n",
        "    print('\\nThe mean absolute error on the training set is\\t', mean_absolute_error(y_train, trainPredictions_num))\n",
        "\n",
        "    # return the predicted outputs for the datapoints in the test set\n",
        "    predictions_num = model.predict(X_test)\n",
        "\n",
        "    # print the predictions\n",
        "    print('\\nThe predicted y values for the test set are\\t', np.round(predictions_num,0))\n",
        "\n",
        "    # print the real y values\n",
        "    print('The real y values for the test set are\\t', y_test)\n",
        "\n",
        "    # print the weights\n",
        "    # print('\\nThe weights are\\t', model.w)\n",
        "\n",
        "    # print quality metrics\n",
        "    print('\\nThe mean absolute error on the test set is\\t', mean_absolute_error(y_test, predictions_num), '\\n')\n",
        "\n"
      ],
      "metadata": {
        "colab": {
          "base_uri": "https://localhost:8080/"
        },
        "id": "BWKBFf5IwxYm",
        "outputId": "cfdc6bce-0ac9-4adc-cb8d-64654fd5edb1"
      },
      "execution_count": null,
      "outputs": [
        {
          "output_type": "stream",
          "name": "stdout",
          "text": [
            "\n",
            "Using explicit gradient\n",
            "-------------------------------------------------------------\n",
            "------------\n",
            "Using the simple gradient variant\n",
            "-------------\n",
            "Gradient descent failed\n",
            "\n",
            "Fitting time is 5.3680994510650635\n",
            "\n",
            "Predicting the model...\n",
            "\n",
            "Prediction time is 0.0007991790771484375\n",
            "Accuracy: 0.9733333333333334\n",
            "Mean of predictions:  [6 9 3 7 2 2 5 2 5 2 1 9 4 0 4 2 3 7 8 8 4 3 9 7 5 6 3 5 6 3 4 9 1 4 4 6 9 4 7 6 6 9 1 3 6 1 3 0 6 5 5 1 9 5 6 0 9 0 0 1 0 4 5 2 4 5 7 0 7 5 9 5 5 4 7 0 4 5 5 9 9 0 2 3 8 0 6 4 4\n",
            " 9 1 2 8 3 5 2 9 0 4 4 4 3 5 3 1 3 5 9 4 2 7 7 4 4 1 9 2 7 8 7 2 6 9 4 0 7 2 7 5 8 7 5 7 9 0 6 6 4 2 8 0 9 4 6 9 9 6 9 0 5 5 6 6 0 6 4 3 9 3 8 7 2 9 0 4 5 8 6 5 9 9 8 4 2 1 3 7 7\n",
            " 2 2 3 9 8 0 3 2 2 5 6 9 9 4 1 2 4 2 3 6 4 8 5 9 5 7 8 9 4 8 1 5 4 4 9 6 1 8 6 0 4 5 2 7 1 6 4 5 6 0 3 2 3 6 7 1 9 1 4 7 6 5 8 5 5 1 5 2 8 8 9 9 7 6 2 2 2 3 4 8 8 3 6 0 9 7 7 0 1\n",
            " 0 4 5 1 5 3 6 0 4 1 0 0 3 6 5 9 7 3 5 5 9 9 8 5 3 3 2 0 5 8 3 4 0 2 4 6 4 3 4 5 0 5 2 1 3 1 4 1 1 7 0 1 5 2 1 2 8 7 0 6 4 8 8 5 1 8 4 5 8 7 9 8 6 0 6 2 0 7 9 8 9 5 2 7 7 1 8 7 4\n",
            " 3 8 3 5 6 0 0 3 0 5 0 0 4 1 2 8 4 5 9 6 3 1 8 8 4 2 3 8 9 8 8 5 0 6 3 3 7 1 6 4 1 2 1 1 6 4 7 4 8 3 4 0 5 1 9 4 5 7 6 3 7 0 5 9 7 5 9 7 4 2 1 9 0 7 5 8 3 6 3 9 6 9 5 0 1 5 5 8 3\n",
            " 3 6 2 6 5]\n",
            "\n",
            "Real values:  [6 9 3 7 2 1 5 2 5 2 1 9 4 0 4 2 3 7 8 8 4 3 9 7 5 6 3 5 6 3 4 9 1 4 4 6 9 4 7 6 6 9 1 3 6 1 3 0 6 5 5 1 9 5 6 0 9 0 0 1 0 4 5 2 4 5 7 0 7 5 9 5 5 4 7 0 4 5 5 9 9 0 2 3 8 0 6 4 4\n",
            " 9 1 2 8 3 5 2 9 0 4 4 4 3 5 3 1 3 5 9 4 2 7 7 4 4 1 9 2 7 8 7 2 6 9 4 0 7 2 7 5 8 7 5 7 7 0 6 6 4 2 8 0 9 4 6 9 9 6 9 0 3 5 6 6 0 6 4 3 9 3 9 7 2 9 0 4 5 3 6 5 9 9 8 4 2 1 3 7 7\n",
            " 2 2 3 9 8 0 3 2 2 5 6 9 9 4 1 5 4 2 3 6 4 8 5 9 5 7 8 9 4 8 1 5 4 4 9 6 1 8 6 0 4 5 2 7 4 6 4 5 6 0 3 2 3 6 7 1 5 1 4 7 6 8 8 5 5 1 6 2 8 8 9 9 7 6 2 2 2 3 4 8 8 3 6 0 9 7 7 0 1\n",
            " 0 4 5 1 5 3 6 0 4 1 0 0 3 6 5 9 7 3 5 5 9 9 8 5 3 3 2 0 5 8 3 4 0 2 4 6 4 3 4 5 0 5 2 1 3 1 4 1 1 7 0 1 5 2 1 2 8 7 0 6 4 8 8 5 1 8 4 5 8 7 9 8 5 0 6 2 0 7 9 8 9 5 2 7 7 1 8 7 4\n",
            " 3 8 3 5 6 0 0 3 0 5 0 0 4 1 2 8 4 5 9 6 3 1 8 8 4 2 3 8 9 8 8 5 0 6 3 3 7 1 6 4 1 2 1 1 6 4 7 4 8 3 4 0 5 1 9 4 5 7 6 3 7 0 5 9 7 5 9 7 4 2 1 9 0 7 5 3 3 6 3 9 6 9 5 0 1 5 5 8 3\n",
            " 3 6 2 6 5]\n",
            "\n",
            "The r^2 score is\t 0.9704127730521286\n",
            "\n",
            "The mean absolute error on the training set is\t 0.04083147735708983\n",
            "\n",
            "The predicted y values for the test set are\t [6 9 3 7 2 2 5 2 5 2 1 9 4 0 4 2 3 7 8 8 4 3 9 7 5 6 3 5 6 3 4 9 1 4 4 6 9 4 7 6 6 9 1 3 6 1 3 0 6 5 5 1 9 5 6 0 9 0 0 1 0 4 5 2 4 5 7 0 7 5 9 5 5 4 7 0 4 5 5 9 9 0 2 3 8 0 6 4 4\n",
            " 9 1 2 8 3 5 2 9 0 4 4 4 3 5 3 1 3 5 9 4 2 7 7 4 4 1 9 2 7 8 7 2 6 9 4 0 7 2 7 5 8 7 5 7 9 0 6 6 4 2 8 0 9 4 6 9 9 6 9 0 5 5 6 6 0 6 4 3 9 3 8 7 2 9 0 4 5 8 6 5 9 9 8 4 2 1 3 7 7\n",
            " 2 2 3 9 8 0 3 2 2 5 6 9 9 4 1 2 4 2 3 6 4 8 5 9 5 7 8 9 4 8 1 5 4 4 9 6 1 8 6 0 4 5 2 7 1 6 4 5 6 0 3 2 3 6 7 1 9 1 4 7 6 5 8 5 5 1 5 2 8 8 9 9 7 6 2 2 2 3 4 8 8 3 6 0 9 7 7 0 1\n",
            " 0 4 5 1 5 3 6 0 4 1 0 0 3 6 5 9 7 3 5 5 9 9 8 5 3 3 2 0 5 8 3 4 0 2 4 6 4 3 4 5 0 5 2 1 3 1 4 1 1 7 0 1 5 2 1 2 8 7 0 6 4 8 8 5 1 8 4 5 8 7 9 8 6 0 6 2 0 7 9 8 9 5 2 7 7 1 8 7 4\n",
            " 3 8 3 5 6 0 0 3 0 5 0 0 4 1 2 8 4 5 9 6 3 1 8 8 4 2 3 8 9 8 8 5 0 6 3 3 7 1 6 4 1 2 1 1 6 4 7 4 8 3 4 0 5 1 9 4 5 7 6 3 7 0 5 9 7 5 9 7 4 2 1 9 0 7 5 8 3 6 3 9 6 9 5 0 1 5 5 8 3\n",
            " 3 6 2 6 5]\n",
            "The real y values for the test set are\t [6 9 3 7 2 1 5 2 5 2 1 9 4 0 4 2 3 7 8 8 4 3 9 7 5 6 3 5 6 3 4 9 1 4 4 6 9 4 7 6 6 9 1 3 6 1 3 0 6 5 5 1 9 5 6 0 9 0 0 1 0 4 5 2 4 5 7 0 7 5 9 5 5 4 7 0 4 5 5 9 9 0 2 3 8 0 6 4 4\n",
            " 9 1 2 8 3 5 2 9 0 4 4 4 3 5 3 1 3 5 9 4 2 7 7 4 4 1 9 2 7 8 7 2 6 9 4 0 7 2 7 5 8 7 5 7 7 0 6 6 4 2 8 0 9 4 6 9 9 6 9 0 3 5 6 6 0 6 4 3 9 3 9 7 2 9 0 4 5 3 6 5 9 9 8 4 2 1 3 7 7\n",
            " 2 2 3 9 8 0 3 2 2 5 6 9 9 4 1 5 4 2 3 6 4 8 5 9 5 7 8 9 4 8 1 5 4 4 9 6 1 8 6 0 4 5 2 7 4 6 4 5 6 0 3 2 3 6 7 1 5 1 4 7 6 8 8 5 5 1 6 2 8 8 9 9 7 6 2 2 2 3 4 8 8 3 6 0 9 7 7 0 1\n",
            " 0 4 5 1 5 3 6 0 4 1 0 0 3 6 5 9 7 3 5 5 9 9 8 5 3 3 2 0 5 8 3 4 0 2 4 6 4 3 4 5 0 5 2 1 3 1 4 1 1 7 0 1 5 2 1 2 8 7 0 6 4 8 8 5 1 8 4 5 8 7 9 8 5 0 6 2 0 7 9 8 9 5 2 7 7 1 8 7 4\n",
            " 3 8 3 5 6 0 0 3 0 5 0 0 4 1 2 8 4 5 9 6 3 1 8 8 4 2 3 8 9 8 8 5 0 6 3 3 7 1 6 4 1 2 1 1 6 4 7 4 8 3 4 0 5 1 9 4 5 7 6 3 7 0 5 9 7 5 9 7 4 2 1 9 0 7 5 3 3 6 3 9 6 9 5 0 1 5 5 8 3\n",
            " 3 6 2 6 5]\n",
            "\n",
            "The mean absolute error on the test set is\t 0.06888888888888889 \n",
            "\n",
            "------------\n",
            "Using the multipoint gradient variant\n",
            "-------------\n",
            "Initial starting points:  (65, 10)\n",
            "Gradient descent failed\n",
            "Initial starting points:  (65, 10)\n",
            "Gradient descent failed\n",
            "\n",
            "Fitting time is 14.009025812149048\n",
            "\n",
            "Predicting the model...\n",
            "\n",
            "Prediction time is 0.0007822513580322266\n",
            "Accuracy: 0.9444444444444444\n",
            "Mean of predictions:  [6 9 3 7 2 1 5 2 5 7 1 9 4 0 4 2 3 7 8 8 4 3 9 7 5 6 3 5 6 3 4 9 1 4 4 6 9 4 7 6 6 9 1 3 6 1 3 0 6 5 5 1 9 5 6 0 9 0 0 1 0 4 5 2 4 5 7 0 7 5 9 9 5 4 7 0 1 5 5 9 9 0 2 3 8 0 6 4 4\n",
            " 9 1 2 8 3 5 2 9 4 4 4 4 3 5 3 1 3 5 9 4 2 7 7 4 4 1 9 2 7 8 7 2 6 9 4 2 7 2 7 5 8 7 5 7 9 0 6 6 4 2 8 0 9 4 6 9 9 6 9 0 5 5 6 6 0 6 4 3 9 3 8 7 2 9 0 0 5 8 6 5 9 9 2 4 2 1 3 7 7\n",
            " 2 2 3 9 8 0 3 2 3 5 6 9 9 4 1 5 4 2 3 6 4 8 5 9 5 7 8 9 4 8 1 5 4 4 9 6 1 8 6 0 4 5 2 7 1 6 4 5 6 0 3 2 3 6 7 1 5 1 4 7 6 0 8 5 5 1 0 2 8 8 9 3 7 4 2 2 2 3 4 8 8 3 6 0 9 7 9 0 1\n",
            " 0 4 5 1 5 3 6 0 4 1 0 0 3 6 5 9 7 3 5 5 9 9 8 5 3 3 2 0 5 8 3 4 0 2 4 6 4 3 4 5 0 5 2 1 3 1 4 1 1 7 0 1 5 2 1 2 8 7 0 6 4 8 8 5 1 8 4 5 8 7 9 8 6 0 6 2 0 7 9 8 9 5 2 7 7 1 8 7 4\n",
            " 3 2 3 5 6 0 0 3 0 5 0 0 4 1 2 8 4 5 9 6 3 1 8 8 4 2 3 8 9 8 8 4 0 6 3 3 7 1 6 4 1 2 1 1 6 4 4 4 8 3 4 0 5 1 9 4 5 7 6 3 7 0 4 9 7 5 9 7 4 2 1 9 0 7 5 8 3 6 3 9 6 9 5 0 1 5 5 8 7\n",
            " 3 6 2 6 5]\n",
            "\n",
            "Real values:  [6 9 3 7 2 1 5 2 5 2 1 9 4 0 4 2 3 7 8 8 4 3 9 7 5 6 3 5 6 3 4 9 1 4 4 6 9 4 7 6 6 9 1 3 6 1 3 0 6 5 5 1 9 5 6 0 9 0 0 1 0 4 5 2 4 5 7 0 7 5 9 5 5 4 7 0 4 5 5 9 9 0 2 3 8 0 6 4 4\n",
            " 9 1 2 8 3 5 2 9 0 4 4 4 3 5 3 1 3 5 9 4 2 7 7 4 4 1 9 2 7 8 7 2 6 9 4 0 7 2 7 5 8 7 5 7 7 0 6 6 4 2 8 0 9 4 6 9 9 6 9 0 3 5 6 6 0 6 4 3 9 3 9 7 2 9 0 4 5 3 6 5 9 9 8 4 2 1 3 7 7\n",
            " 2 2 3 9 8 0 3 2 2 5 6 9 9 4 1 5 4 2 3 6 4 8 5 9 5 7 8 9 4 8 1 5 4 4 9 6 1 8 6 0 4 5 2 7 4 6 4 5 6 0 3 2 3 6 7 1 5 1 4 7 6 8 8 5 5 1 6 2 8 8 9 9 7 6 2 2 2 3 4 8 8 3 6 0 9 7 7 0 1\n",
            " 0 4 5 1 5 3 6 0 4 1 0 0 3 6 5 9 7 3 5 5 9 9 8 5 3 3 2 0 5 8 3 4 0 2 4 6 4 3 4 5 0 5 2 1 3 1 4 1 1 7 0 1 5 2 1 2 8 7 0 6 4 8 8 5 1 8 4 5 8 7 9 8 5 0 6 2 0 7 9 8 9 5 2 7 7 1 8 7 4\n",
            " 3 8 3 5 6 0 0 3 0 5 0 0 4 1 2 8 4 5 9 6 3 1 8 8 4 2 3 8 9 8 8 5 0 6 3 3 7 1 6 4 1 2 1 1 6 4 7 4 8 3 4 0 5 1 9 4 5 7 6 3 7 0 5 9 7 5 9 7 4 2 1 9 0 7 5 3 3 6 3 9 6 9 5 0 1 5 5 8 3\n",
            " 3 6 2 6 5]\n",
            "\n",
            "The r^2 score is\t 0.9301634823392584\n",
            "\n",
            "The mean absolute error on the training set is\t 0.10987379361544172\n",
            "\n",
            "The predicted y values for the test set are\t [6 9 3 7 2 1 5 2 5 7 1 9 4 0 4 2 3 7 8 8 4 3 9 7 5 6 3 5 6 3 4 9 1 4 4 6 9 4 7 6 6 9 1 3 6 1 3 0 6 5 5 1 9 5 6 0 9 0 0 1 0 4 5 2 4 5 7 0 7 5 9 9 5 4 7 0 1 5 5 9 9 0 2 3 8 0 6 4 4\n",
            " 9 1 2 8 3 5 2 9 4 4 4 4 3 5 3 1 3 5 9 4 2 7 7 4 4 1 9 2 7 8 7 2 6 9 4 2 7 2 7 5 8 7 5 7 9 0 6 6 4 2 8 0 9 4 6 9 9 6 9 0 5 5 6 6 0 6 4 3 9 3 8 7 2 9 0 0 5 8 6 5 9 9 2 4 2 1 3 7 7\n",
            " 2 2 3 9 8 0 3 2 3 5 6 9 9 4 1 5 4 2 3 6 4 8 5 9 5 7 8 9 4 8 1 5 4 4 9 6 1 8 6 0 4 5 2 7 1 6 4 5 6 0 3 2 3 6 7 1 5 1 4 7 6 0 8 5 5 1 0 2 8 8 9 3 7 4 2 2 2 3 4 8 8 3 6 0 9 7 9 0 1\n",
            " 0 4 5 1 5 3 6 0 4 1 0 0 3 6 5 9 7 3 5 5 9 9 8 5 3 3 2 0 5 8 3 4 0 2 4 6 4 3 4 5 0 5 2 1 3 1 4 1 1 7 0 1 5 2 1 2 8 7 0 6 4 8 8 5 1 8 4 5 8 7 9 8 6 0 6 2 0 7 9 8 9 5 2 7 7 1 8 7 4\n",
            " 3 2 3 5 6 0 0 3 0 5 0 0 4 1 2 8 4 5 9 6 3 1 8 8 4 2 3 8 9 8 8 4 0 6 3 3 7 1 6 4 1 2 1 1 6 4 4 4 8 3 4 0 5 1 9 4 5 7 6 3 7 0 4 9 7 5 9 7 4 2 1 9 0 7 5 8 3 6 3 9 6 9 5 0 1 5 5 8 7\n",
            " 3 6 2 6 5]\n",
            "The real y values for the test set are\t [6 9 3 7 2 1 5 2 5 2 1 9 4 0 4 2 3 7 8 8 4 3 9 7 5 6 3 5 6 3 4 9 1 4 4 6 9 4 7 6 6 9 1 3 6 1 3 0 6 5 5 1 9 5 6 0 9 0 0 1 0 4 5 2 4 5 7 0 7 5 9 5 5 4 7 0 4 5 5 9 9 0 2 3 8 0 6 4 4\n",
            " 9 1 2 8 3 5 2 9 0 4 4 4 3 5 3 1 3 5 9 4 2 7 7 4 4 1 9 2 7 8 7 2 6 9 4 0 7 2 7 5 8 7 5 7 7 0 6 6 4 2 8 0 9 4 6 9 9 6 9 0 3 5 6 6 0 6 4 3 9 3 9 7 2 9 0 4 5 3 6 5 9 9 8 4 2 1 3 7 7\n",
            " 2 2 3 9 8 0 3 2 2 5 6 9 9 4 1 5 4 2 3 6 4 8 5 9 5 7 8 9 4 8 1 5 4 4 9 6 1 8 6 0 4 5 2 7 4 6 4 5 6 0 3 2 3 6 7 1 5 1 4 7 6 8 8 5 5 1 6 2 8 8 9 9 7 6 2 2 2 3 4 8 8 3 6 0 9 7 7 0 1\n",
            " 0 4 5 1 5 3 6 0 4 1 0 0 3 6 5 9 7 3 5 5 9 9 8 5 3 3 2 0 5 8 3 4 0 2 4 6 4 3 4 5 0 5 2 1 3 1 4 1 1 7 0 1 5 2 1 2 8 7 0 6 4 8 8 5 1 8 4 5 8 7 9 8 5 0 6 2 0 7 9 8 9 5 2 7 7 1 8 7 4\n",
            " 3 8 3 5 6 0 0 3 0 5 0 0 4 1 2 8 4 5 9 6 3 1 8 8 4 2 3 8 9 8 8 5 0 6 3 3 7 1 6 4 1 2 1 1 6 4 7 4 8 3 4 0 5 1 9 4 5 7 6 3 7 0 5 9 7 5 9 7 4 2 1 9 0 7 5 3 3 6 3 9 6 9 5 0 1 5 5 8 3\n",
            " 3 6 2 6 5]\n",
            "\n",
            "The mean absolute error on the test set is\t 0.19333333333333333 \n",
            "\n",
            "------------\n",
            "Using the lrSchedual gradient variant\n",
            "-------------\n",
            "Epoch  0\n",
            "Initial starting points:  (65, 10)\n",
            "Gradient descent failed\n",
            "Initial starting points:  (65, 10)\n",
            "Gradient descent failed\n",
            "Epoch  1\n",
            "Initial starting points:  (65, 10)\n",
            "Gradient descent failed\n",
            "Initial starting points:  (65, 10)\n",
            "Gradient descent failed\n",
            "Finding the best parameters at the epoch of  0\n",
            "\n",
            "Fitting time is 18.877392768859863\n",
            "\n",
            "Predicting the model...\n",
            "\n",
            "Prediction time is 0.0007135868072509766\n",
            "Accuracy: 0.9511111111111111\n",
            "Mean of predictions:  [6 9 3 7 2 2 5 2 5 2 1 9 4 0 4 2 3 7 8 8 4 3 9 7 5 6 3 5 6 3 4 9 1 4 4 6 9 4 7 6 6 9 1 3 6 1 3 0 6 5 5 1 9 5 6 0 9 0 0 1 0 4 5 2 4 5 7 0 7 5 9 9 5 4 7 0 4 5 5 9 9 0 2 3 8 0 6 4 4\n",
            " 9 1 2 8 3 5 2 9 0 4 4 4 3 5 3 1 3 5 9 4 2 7 7 4 4 1 9 2 7 8 7 2 6 9 4 0 7 2 7 5 8 7 5 7 9 0 6 6 4 2 8 0 9 4 6 9 9 6 9 0 5 5 6 6 0 6 4 3 9 3 8 7 2 9 0 1 5 3 6 5 9 9 8 4 2 1 3 7 7\n",
            " 2 2 3 9 8 0 3 2 2 5 6 9 9 4 1 2 4 2 3 6 4 8 5 9 5 7 8 9 4 8 1 5 4 4 9 6 1 8 6 0 4 5 2 7 1 6 4 5 6 0 3 2 3 6 7 1 5 1 4 7 6 5 8 5 5 1 0 2 8 8 9 1 7 1 2 2 2 3 4 8 8 3 6 0 9 7 7 0 1\n",
            " 0 4 5 1 5 3 6 0 4 1 0 0 3 6 5 9 7 3 5 5 9 9 8 5 3 3 2 0 5 8 3 4 0 2 4 6 4 3 4 5 0 5 2 1 3 1 4 1 1 7 0 1 5 2 1 2 8 7 0 6 4 8 8 5 1 8 4 5 8 7 9 8 6 0 6 2 0 7 9 1 9 5 2 7 7 9 8 7 4\n",
            " 3 7 3 5 6 0 0 3 0 5 0 0 4 1 1 8 4 5 9 6 3 1 8 8 4 2 3 8 9 8 8 5 0 6 3 3 7 1 6 4 1 2 1 1 6 4 9 4 8 3 4 0 5 1 3 4 5 7 6 3 7 0 5 9 9 5 9 7 4 2 2 9 0 7 5 8 3 6 3 9 6 9 5 0 1 5 5 8 3\n",
            " 3 6 2 6 5]\n",
            "\n",
            "Real values:  [6 9 3 7 2 1 5 2 5 2 1 9 4 0 4 2 3 7 8 8 4 3 9 7 5 6 3 5 6 3 4 9 1 4 4 6 9 4 7 6 6 9 1 3 6 1 3 0 6 5 5 1 9 5 6 0 9 0 0 1 0 4 5 2 4 5 7 0 7 5 9 5 5 4 7 0 4 5 5 9 9 0 2 3 8 0 6 4 4\n",
            " 9 1 2 8 3 5 2 9 0 4 4 4 3 5 3 1 3 5 9 4 2 7 7 4 4 1 9 2 7 8 7 2 6 9 4 0 7 2 7 5 8 7 5 7 7 0 6 6 4 2 8 0 9 4 6 9 9 6 9 0 3 5 6 6 0 6 4 3 9 3 9 7 2 9 0 4 5 3 6 5 9 9 8 4 2 1 3 7 7\n",
            " 2 2 3 9 8 0 3 2 2 5 6 9 9 4 1 5 4 2 3 6 4 8 5 9 5 7 8 9 4 8 1 5 4 4 9 6 1 8 6 0 4 5 2 7 4 6 4 5 6 0 3 2 3 6 7 1 5 1 4 7 6 8 8 5 5 1 6 2 8 8 9 9 7 6 2 2 2 3 4 8 8 3 6 0 9 7 7 0 1\n",
            " 0 4 5 1 5 3 6 0 4 1 0 0 3 6 5 9 7 3 5 5 9 9 8 5 3 3 2 0 5 8 3 4 0 2 4 6 4 3 4 5 0 5 2 1 3 1 4 1 1 7 0 1 5 2 1 2 8 7 0 6 4 8 8 5 1 8 4 5 8 7 9 8 5 0 6 2 0 7 9 8 9 5 2 7 7 1 8 7 4\n",
            " 3 8 3 5 6 0 0 3 0 5 0 0 4 1 2 8 4 5 9 6 3 1 8 8 4 2 3 8 9 8 8 5 0 6 3 3 7 1 6 4 1 2 1 1 6 4 7 4 8 3 4 0 5 1 9 4 5 7 6 3 7 0 5 9 7 5 9 7 4 2 1 9 0 7 5 3 3 6 3 9 6 9 5 0 1 5 5 8 3\n",
            " 3 6 2 6 5]\n",
            "\n",
            "The r^2 score is\t 0.9394039376022573\n",
            "\n",
            "The mean absolute error on the training set is\t 0.08760207869339272\n",
            "\n",
            "The predicted y values for the test set are\t [6 9 3 7 2 2 5 2 5 2 1 9 4 0 4 2 3 7 8 8 4 3 9 7 5 6 3 5 6 3 4 9 1 4 4 6 9 4 7 6 6 9 1 3 6 1 3 0 6 5 5 1 9 5 6 0 9 0 0 1 0 4 5 2 4 5 7 0 7 5 9 9 5 4 7 0 4 5 5 9 9 0 2 3 8 0 6 4 4\n",
            " 9 1 2 8 3 5 2 9 0 4 4 4 3 5 3 1 3 5 9 4 2 7 7 4 4 1 9 2 7 8 7 2 6 9 4 0 7 2 7 5 8 7 5 7 9 0 6 6 4 2 8 0 9 4 6 9 9 6 9 0 5 5 6 6 0 6 4 3 9 3 8 7 2 9 0 1 5 3 6 5 9 9 8 4 2 1 3 7 7\n",
            " 2 2 3 9 8 0 3 2 2 5 6 9 9 4 1 2 4 2 3 6 4 8 5 9 5 7 8 9 4 8 1 5 4 4 9 6 1 8 6 0 4 5 2 7 1 6 4 5 6 0 3 2 3 6 7 1 5 1 4 7 6 5 8 5 5 1 0 2 8 8 9 1 7 1 2 2 2 3 4 8 8 3 6 0 9 7 7 0 1\n",
            " 0 4 5 1 5 3 6 0 4 1 0 0 3 6 5 9 7 3 5 5 9 9 8 5 3 3 2 0 5 8 3 4 0 2 4 6 4 3 4 5 0 5 2 1 3 1 4 1 1 7 0 1 5 2 1 2 8 7 0 6 4 8 8 5 1 8 4 5 8 7 9 8 6 0 6 2 0 7 9 1 9 5 2 7 7 9 8 7 4\n",
            " 3 7 3 5 6 0 0 3 0 5 0 0 4 1 1 8 4 5 9 6 3 1 8 8 4 2 3 8 9 8 8 5 0 6 3 3 7 1 6 4 1 2 1 1 6 4 9 4 8 3 4 0 5 1 3 4 5 7 6 3 7 0 5 9 9 5 9 7 4 2 2 9 0 7 5 8 3 6 3 9 6 9 5 0 1 5 5 8 3\n",
            " 3 6 2 6 5]\n",
            "The real y values for the test set are\t [6 9 3 7 2 1 5 2 5 2 1 9 4 0 4 2 3 7 8 8 4 3 9 7 5 6 3 5 6 3 4 9 1 4 4 6 9 4 7 6 6 9 1 3 6 1 3 0 6 5 5 1 9 5 6 0 9 0 0 1 0 4 5 2 4 5 7 0 7 5 9 5 5 4 7 0 4 5 5 9 9 0 2 3 8 0 6 4 4\n",
            " 9 1 2 8 3 5 2 9 0 4 4 4 3 5 3 1 3 5 9 4 2 7 7 4 4 1 9 2 7 8 7 2 6 9 4 0 7 2 7 5 8 7 5 7 7 0 6 6 4 2 8 0 9 4 6 9 9 6 9 0 3 5 6 6 0 6 4 3 9 3 9 7 2 9 0 4 5 3 6 5 9 9 8 4 2 1 3 7 7\n",
            " 2 2 3 9 8 0 3 2 2 5 6 9 9 4 1 5 4 2 3 6 4 8 5 9 5 7 8 9 4 8 1 5 4 4 9 6 1 8 6 0 4 5 2 7 4 6 4 5 6 0 3 2 3 6 7 1 5 1 4 7 6 8 8 5 5 1 6 2 8 8 9 9 7 6 2 2 2 3 4 8 8 3 6 0 9 7 7 0 1\n",
            " 0 4 5 1 5 3 6 0 4 1 0 0 3 6 5 9 7 3 5 5 9 9 8 5 3 3 2 0 5 8 3 4 0 2 4 6 4 3 4 5 0 5 2 1 3 1 4 1 1 7 0 1 5 2 1 2 8 7 0 6 4 8 8 5 1 8 4 5 8 7 9 8 5 0 6 2 0 7 9 8 9 5 2 7 7 1 8 7 4\n",
            " 3 8 3 5 6 0 0 3 0 5 0 0 4 1 2 8 4 5 9 6 3 1 8 8 4 2 3 8 9 8 8 5 0 6 3 3 7 1 6 4 1 2 1 1 6 4 7 4 8 3 4 0 5 1 9 4 5 7 6 3 7 0 5 9 7 5 9 7 4 2 1 9 0 7 5 3 3 6 3 9 6 9 5 0 1 5 5 8 3\n",
            " 3 6 2 6 5]\n",
            "\n",
            "The mean absolute error on the test set is\t 0.16666666666666666 \n",
            "\n",
            "\n",
            "Using numerical gradient method\n",
            "-------------------------------------------------------------\n",
            "------------\n",
            "Using the simple gradient variant\n",
            "-------------\n",
            "Gradient descent took 0 iterations to converge\n",
            "\n",
            "Fitting time is 0.04336237907409668\n",
            "\n",
            "Predicting the model...\n",
            "\n",
            "Prediction time is 0.0007185935974121094\n",
            "Accuracy: 0.06222222222222222\n",
            "Mean of predictions:  [0 0 6 5 7 5 4 4 7 7 4 2 7 3 0 4 0 2 4 5 2 6 6 2 7 7 0 5 0 6 2 0 0 0 0 0 6 5 2 0 0 6 2 6 7 5 6 6 7 7 5 4 0 5 0 6 0 7 0 5 7 5 4 4 2 6 7 6 4 0 6 0 7 5 4 3 2 4 6 6 0 0 4 6 4 3 0 0 0\n",
            " 6 7 4 4 6 6 0 6 0 5 5 2 6 0 4 2 4 7 2 2 0 4 2 2 2 0 6 4 5 6 4 4 0 6 0 0 0 4 4 4 6 2 7 7 4 5 0 7 5 4 4 0 0 5 0 4 3 7 6 0 5 7 7 0 6 5 5 4 6 6 4 4 7 6 0 0 7 4 0 7 4 6 4 5 7 7 6 4 4\n",
            " 7 7 6 3 6 6 6 7 0 4 0 6 3 7 7 7 0 4 6 0 5 6 7 6 4 4 7 0 5 4 7 7 5 5 0 0 2 6 0 3 0 7 4 2 2 0 3 7 7 0 6 4 6 0 1 6 6 2 2 2 0 5 4 5 7 2 0 4 7 6 2 7 2 7 4 7 0 6 5 4 5 6 0 6 4 4 4 0 7\n",
            " 3 0 6 4 7 6 0 3 0 0 3 3 0 0 6 0 2 7 7 6 0 0 2 4 6 0 4 6 7 4 6 2 3 4 2 0 2 6 5 6 0 6 7 2 6 2 3 7 2 4 0 7 5 7 2 4 2 4 3 7 5 4 4 7 7 4 5 5 7 5 6 7 6 3 7 7 0 5 0 7 0 5 4 4 2 3 4 4 0\n",
            " 6 4 6 6 0 6 0 6 6 7 0 3 5 0 7 6 2 2 4 0 6 7 4 7 5 4 0 4 0 4 5 4 3 0 0 6 5 7 0 0 5 4 2 2 0 7 4 0 7 6 0 0 7 6 6 0 5 4 0 6 4 6 0 0 5 5 0 5 3 4 5 6 7 4 7 4 6 0 6 0 5 6 5 3 7 6 5 6 6\n",
            " 6 5 6 7 7]\n",
            "\n",
            "Real values:  [6 9 3 7 2 1 5 2 5 2 1 9 4 0 4 2 3 7 8 8 4 3 9 7 5 6 3 5 6 3 4 9 1 4 4 6 9 4 7 6 6 9 1 3 6 1 3 0 6 5 5 1 9 5 6 0 9 0 0 1 0 4 5 2 4 5 7 0 7 5 9 5 5 4 7 0 4 5 5 9 9 0 2 3 8 0 6 4 4\n",
            " 9 1 2 8 3 5 2 9 0 4 4 4 3 5 3 1 3 5 9 4 2 7 7 4 4 1 9 2 7 8 7 2 6 9 4 0 7 2 7 5 8 7 5 7 7 0 6 6 4 2 8 0 9 4 6 9 9 6 9 0 3 5 6 6 0 6 4 3 9 3 9 7 2 9 0 4 5 3 6 5 9 9 8 4 2 1 3 7 7\n",
            " 2 2 3 9 8 0 3 2 2 5 6 9 9 4 1 5 4 2 3 6 4 8 5 9 5 7 8 9 4 8 1 5 4 4 9 6 1 8 6 0 4 5 2 7 4 6 4 5 6 0 3 2 3 6 7 1 5 1 4 7 6 8 8 5 5 1 6 2 8 8 9 9 7 6 2 2 2 3 4 8 8 3 6 0 9 7 7 0 1\n",
            " 0 4 5 1 5 3 6 0 4 1 0 0 3 6 5 9 7 3 5 5 9 9 8 5 3 3 2 0 5 8 3 4 0 2 4 6 4 3 4 5 0 5 2 1 3 1 4 1 1 7 0 1 5 2 1 2 8 7 0 6 4 8 8 5 1 8 4 5 8 7 9 8 5 0 6 2 0 7 9 8 9 5 2 7 7 1 8 7 4\n",
            " 3 8 3 5 6 0 0 3 0 5 0 0 4 1 2 8 4 5 9 6 3 1 8 8 4 2 3 8 9 8 8 5 0 6 3 3 7 1 6 4 1 2 1 1 6 4 7 4 8 3 4 0 5 1 9 4 5 7 6 3 7 0 5 9 7 5 9 7 4 2 1 9 0 7 5 3 3 6 3 9 6 9 5 0 1 5 5 8 3\n",
            " 3 6 2 6 5]\n",
            "\n",
            "The r^2 score is\t -0.6367156384586787\n",
            "\n",
            "The mean absolute error on the training set is\t 3.129175946547884\n",
            "\n",
            "The predicted y values for the test set are\t [0 0 6 5 7 5 4 4 7 7 4 2 7 3 0 4 0 2 4 5 2 6 6 2 7 7 0 5 0 6 2 0 0 0 0 0 6 5 2 0 0 6 2 6 7 5 6 6 7 7 5 4 0 5 0 6 0 7 0 5 7 5 4 4 2 6 7 6 4 0 6 0 7 5 4 3 2 4 6 6 0 0 4 6 4 3 0 0 0\n",
            " 6 7 4 4 6 6 0 6 0 5 5 2 6 0 4 2 4 7 2 2 0 4 2 2 2 0 6 4 5 6 4 4 0 6 0 0 0 4 4 4 6 2 7 7 4 5 0 7 5 4 4 0 0 5 0 4 3 7 6 0 5 7 7 0 6 5 5 4 6 6 4 4 7 6 0 0 7 4 0 7 4 6 4 5 7 7 6 4 4\n",
            " 7 7 6 3 6 6 6 7 0 4 0 6 3 7 7 7 0 4 6 0 5 6 7 6 4 4 7 0 5 4 7 7 5 5 0 0 2 6 0 3 0 7 4 2 2 0 3 7 7 0 6 4 6 0 1 6 6 2 2 2 0 5 4 5 7 2 0 4 7 6 2 7 2 7 4 7 0 6 5 4 5 6 0 6 4 4 4 0 7\n",
            " 3 0 6 4 7 6 0 3 0 0 3 3 0 0 6 0 2 7 7 6 0 0 2 4 6 0 4 6 7 4 6 2 3 4 2 0 2 6 5 6 0 6 7 2 6 2 3 7 2 4 0 7 5 7 2 4 2 4 3 7 5 4 4 7 7 4 5 5 7 5 6 7 6 3 7 7 0 5 0 7 0 5 4 4 2 3 4 4 0\n",
            " 6 4 6 6 0 6 0 6 6 7 0 3 5 0 7 6 2 2 4 0 6 7 4 7 5 4 0 4 0 4 5 4 3 0 0 6 5 7 0 0 5 4 2 2 0 7 4 0 7 6 0 0 7 6 6 0 5 4 0 6 4 6 0 0 5 5 0 5 3 4 5 6 7 4 7 4 6 0 6 0 5 6 5 3 7 6 5 6 6\n",
            " 6 5 6 7 7]\n",
            "The real y values for the test set are\t [6 9 3 7 2 1 5 2 5 2 1 9 4 0 4 2 3 7 8 8 4 3 9 7 5 6 3 5 6 3 4 9 1 4 4 6 9 4 7 6 6 9 1 3 6 1 3 0 6 5 5 1 9 5 6 0 9 0 0 1 0 4 5 2 4 5 7 0 7 5 9 5 5 4 7 0 4 5 5 9 9 0 2 3 8 0 6 4 4\n",
            " 9 1 2 8 3 5 2 9 0 4 4 4 3 5 3 1 3 5 9 4 2 7 7 4 4 1 9 2 7 8 7 2 6 9 4 0 7 2 7 5 8 7 5 7 7 0 6 6 4 2 8 0 9 4 6 9 9 6 9 0 3 5 6 6 0 6 4 3 9 3 9 7 2 9 0 4 5 3 6 5 9 9 8 4 2 1 3 7 7\n",
            " 2 2 3 9 8 0 3 2 2 5 6 9 9 4 1 5 4 2 3 6 4 8 5 9 5 7 8 9 4 8 1 5 4 4 9 6 1 8 6 0 4 5 2 7 4 6 4 5 6 0 3 2 3 6 7 1 5 1 4 7 6 8 8 5 5 1 6 2 8 8 9 9 7 6 2 2 2 3 4 8 8 3 6 0 9 7 7 0 1\n",
            " 0 4 5 1 5 3 6 0 4 1 0 0 3 6 5 9 7 3 5 5 9 9 8 5 3 3 2 0 5 8 3 4 0 2 4 6 4 3 4 5 0 5 2 1 3 1 4 1 1 7 0 1 5 2 1 2 8 7 0 6 4 8 8 5 1 8 4 5 8 7 9 8 5 0 6 2 0 7 9 8 9 5 2 7 7 1 8 7 4\n",
            " 3 8 3 5 6 0 0 3 0 5 0 0 4 1 2 8 4 5 9 6 3 1 8 8 4 2 3 8 9 8 8 5 0 6 3 3 7 1 6 4 1 2 1 1 6 4 7 4 8 3 4 0 5 1 9 4 5 7 6 3 7 0 5 9 7 5 9 7 4 2 1 9 0 7 5 3 3 6 3 9 6 9 5 0 1 5 5 8 3\n",
            " 3 6 2 6 5]\n",
            "\n",
            "The mean absolute error on the test set is\t 3.1822222222222223 \n",
            "\n",
            "------------\n",
            "Using the multipoint gradient variant\n",
            "-------------\n",
            "Initial starting points:  (65, 10)\n",
            "Gradient descent took 0 iterations to converge\n",
            "Initial starting points:  (65, 10)\n",
            "Gradient descent took 0 iterations to converge\n",
            "\n",
            "Fitting time is 0.08947324752807617\n",
            "\n",
            "Predicting the model...\n",
            "\n",
            "Prediction time is 0.0007221698760986328\n",
            "Accuracy: 0.11555555555555555\n",
            "Mean of predictions:  [4 9 7 4 4 4 5 4 4 4 6 6 4 7 7 4 6 4 4 4 6 4 4 4 4 4 4 4 6 4 6 4 4 6 6 6 9 6 4 4 4 6 4 4 6 4 6 6 6 5 4 6 4 4 6 6 4 4 4 4 4 6 5 4 6 4 4 6 4 7 7 4 6 4 4 4 7 4 4 4 7 6 4 6 4 7 4 6 7\n",
            " 6 4 4 4 6 4 4 9 6 6 4 5 4 4 6 6 4 4 5 6 4 7 4 6 6 6 4 4 5 4 7 4 6 9 7 7 4 4 4 4 6 4 4 4 5 6 4 6 6 4 4 4 6 5 6 6 6 6 4 6 7 5 4 6 4 4 4 4 4 7 4 4 4 4 6 7 4 6 4 4 4 7 4 6 4 4 7 4 8\n",
            " 4 4 4 4 4 7 4 4 4 4 4 4 4 6 4 4 6 4 4 4 6 4 4 4 5 7 4 7 6 4 6 4 6 6 7 6 4 6 7 6 6 4 4 4 7 6 6 4 6 6 4 4 4 4 4 6 4 4 7 7 6 4 4 7 5 6 7 4 4 4 4 4 4 7 4 4 4 7 4 6 4 6 4 6 7 7 4 7 4\n",
            " 7 6 4 4 4 4 6 7 5 4 4 7 4 4 4 7 7 6 7 4 4 4 4 4 6 7 4 4 4 4 7 6 7 4 5 6 6 7 4 7 4 7 4 4 4 6 6 4 4 6 4 4 4 4 4 4 6 4 6 6 7 4 6 6 4 4 4 4 4 6 7 4 6 9 6 4 6 5 4 6 4 5 4 6 7 9 6 4 5\n",
            " 6 4 4 4 6 7 6 4 4 4 6 4 4 6 4 4 2 4 4 6 4 4 6 4 4 4 7 6 6 4 4 5 4 7 4 4 4 4 6 6 4 4 4 4 7 6 7 6 4 4 6 6 4 6 4 7 4 4 4 4 7 4 6 4 5 7 4 4 6 4 4 4 4 4 4 6 7 4 7 4 6 4 4 7 6 4 4 4 4\n",
            " 6 4 4 7 4]\n",
            "\n",
            "Real values:  [6 9 3 7 2 1 5 2 5 2 1 9 4 0 4 2 3 7 8 8 4 3 9 7 5 6 3 5 6 3 4 9 1 4 4 6 9 4 7 6 6 9 1 3 6 1 3 0 6 5 5 1 9 5 6 0 9 0 0 1 0 4 5 2 4 5 7 0 7 5 9 5 5 4 7 0 4 5 5 9 9 0 2 3 8 0 6 4 4\n",
            " 9 1 2 8 3 5 2 9 0 4 4 4 3 5 3 1 3 5 9 4 2 7 7 4 4 1 9 2 7 8 7 2 6 9 4 0 7 2 7 5 8 7 5 7 7 0 6 6 4 2 8 0 9 4 6 9 9 6 9 0 3 5 6 6 0 6 4 3 9 3 9 7 2 9 0 4 5 3 6 5 9 9 8 4 2 1 3 7 7\n",
            " 2 2 3 9 8 0 3 2 2 5 6 9 9 4 1 5 4 2 3 6 4 8 5 9 5 7 8 9 4 8 1 5 4 4 9 6 1 8 6 0 4 5 2 7 4 6 4 5 6 0 3 2 3 6 7 1 5 1 4 7 6 8 8 5 5 1 6 2 8 8 9 9 7 6 2 2 2 3 4 8 8 3 6 0 9 7 7 0 1\n",
            " 0 4 5 1 5 3 6 0 4 1 0 0 3 6 5 9 7 3 5 5 9 9 8 5 3 3 2 0 5 8 3 4 0 2 4 6 4 3 4 5 0 5 2 1 3 1 4 1 1 7 0 1 5 2 1 2 8 7 0 6 4 8 8 5 1 8 4 5 8 7 9 8 5 0 6 2 0 7 9 8 9 5 2 7 7 1 8 7 4\n",
            " 3 8 3 5 6 0 0 3 0 5 0 0 4 1 2 8 4 5 9 6 3 1 8 8 4 2 3 8 9 8 8 5 0 6 3 3 7 1 6 4 1 2 1 1 6 4 7 4 8 3 4 0 5 1 9 4 5 7 6 3 7 0 5 9 7 5 9 7 4 2 1 9 0 7 5 3 3 6 3 9 6 9 5 0 1 5 5 8 3\n",
            " 3 6 2 6 5]\n",
            "\n",
            "The r^2 score is\t -0.24141962437135112\n",
            "\n",
            "The mean absolute error on the training set is\t 2.684484038604306\n",
            "\n",
            "The predicted y values for the test set are\t [4 9 7 4 4 4 5 4 4 4 6 6 4 7 7 4 6 4 4 4 6 4 4 4 4 4 4 4 6 4 6 4 4 6 6 6 9 6 4 4 4 6 4 4 6 4 6 6 6 5 4 6 4 4 6 6 4 4 4 4 4 6 5 4 6 4 4 6 4 7 7 4 6 4 4 4 7 4 4 4 7 6 4 6 4 7 4 6 7\n",
            " 6 4 4 4 6 4 4 9 6 6 4 5 4 4 6 6 4 4 5 6 4 7 4 6 6 6 4 4 5 4 7 4 6 9 7 7 4 4 4 4 6 4 4 4 5 6 4 6 6 4 4 4 6 5 6 6 6 6 4 6 7 5 4 6 4 4 4 4 4 7 4 4 4 4 6 7 4 6 4 4 4 7 4 6 4 4 7 4 8\n",
            " 4 4 4 4 4 7 4 4 4 4 4 4 4 6 4 4 6 4 4 4 6 4 4 4 5 7 4 7 6 4 6 4 6 6 7 6 4 6 7 6 6 4 4 4 7 6 6 4 6 6 4 4 4 4 4 6 4 4 7 7 6 4 4 7 5 6 7 4 4 4 4 4 4 7 4 4 4 7 4 6 4 6 4 6 7 7 4 7 4\n",
            " 7 6 4 4 4 4 6 7 5 4 4 7 4 4 4 7 7 6 7 4 4 4 4 4 6 7 4 4 4 4 7 6 7 4 5 6 6 7 4 7 4 7 4 4 4 6 6 4 4 6 4 4 4 4 4 4 6 4 6 6 7 4 6 6 4 4 4 4 4 6 7 4 6 9 6 4 6 5 4 6 4 5 4 6 7 9 6 4 5\n",
            " 6 4 4 4 6 7 6 4 4 4 6 4 4 6 4 4 2 4 4 6 4 4 6 4 4 4 7 6 6 4 4 5 4 7 4 4 4 4 6 6 4 4 4 4 7 6 7 6 4 4 6 6 4 6 4 7 4 4 4 4 7 4 6 4 5 7 4 4 6 4 4 4 4 4 4 6 7 4 7 4 6 4 4 7 6 4 4 4 4\n",
            " 6 4 4 7 4]\n",
            "The real y values for the test set are\t [6 9 3 7 2 1 5 2 5 2 1 9 4 0 4 2 3 7 8 8 4 3 9 7 5 6 3 5 6 3 4 9 1 4 4 6 9 4 7 6 6 9 1 3 6 1 3 0 6 5 5 1 9 5 6 0 9 0 0 1 0 4 5 2 4 5 7 0 7 5 9 5 5 4 7 0 4 5 5 9 9 0 2 3 8 0 6 4 4\n",
            " 9 1 2 8 3 5 2 9 0 4 4 4 3 5 3 1 3 5 9 4 2 7 7 4 4 1 9 2 7 8 7 2 6 9 4 0 7 2 7 5 8 7 5 7 7 0 6 6 4 2 8 0 9 4 6 9 9 6 9 0 3 5 6 6 0 6 4 3 9 3 9 7 2 9 0 4 5 3 6 5 9 9 8 4 2 1 3 7 7\n",
            " 2 2 3 9 8 0 3 2 2 5 6 9 9 4 1 5 4 2 3 6 4 8 5 9 5 7 8 9 4 8 1 5 4 4 9 6 1 8 6 0 4 5 2 7 4 6 4 5 6 0 3 2 3 6 7 1 5 1 4 7 6 8 8 5 5 1 6 2 8 8 9 9 7 6 2 2 2 3 4 8 8 3 6 0 9 7 7 0 1\n",
            " 0 4 5 1 5 3 6 0 4 1 0 0 3 6 5 9 7 3 5 5 9 9 8 5 3 3 2 0 5 8 3 4 0 2 4 6 4 3 4 5 0 5 2 1 3 1 4 1 1 7 0 1 5 2 1 2 8 7 0 6 4 8 8 5 1 8 4 5 8 7 9 8 5 0 6 2 0 7 9 8 9 5 2 7 7 1 8 7 4\n",
            " 3 8 3 5 6 0 0 3 0 5 0 0 4 1 2 8 4 5 9 6 3 1 8 8 4 2 3 8 9 8 8 5 0 6 3 3 7 1 6 4 1 2 1 1 6 4 7 4 8 3 4 0 5 1 9 4 5 7 6 3 7 0 5 9 7 5 9 7 4 2 1 9 0 7 5 3 3 6 3 9 6 9 5 0 1 5 5 8 3\n",
            " 3 6 2 6 5]\n",
            "\n",
            "The mean absolute error on the test set is\t 2.557777777777778 \n",
            "\n",
            "------------\n",
            "Using the lrSchedual gradient variant\n",
            "-------------\n",
            "Epoch  0\n",
            "Initial starting points:  (65, 10)\n",
            "Gradient descent took 0 iterations to converge\n",
            "Initial starting points:  (65, 10)\n",
            "Gradient descent took 0 iterations to converge\n",
            "Epoch  1\n",
            "Initial starting points:  (65, 10)\n",
            "Gradient descent took 0 iterations to converge\n",
            "Initial starting points:  (65, 10)\n",
            "Gradient descent took 0 iterations to converge\n",
            "Finding the best parameters at the epoch of  1\n",
            "\n",
            "Fitting time is 0.17238306999206543\n",
            "\n",
            "Predicting the model...\n",
            "\n",
            "Prediction time is 0.0007479190826416016\n",
            "Accuracy: 0.07777777777777778\n",
            "Mean of predictions:  [2 1 1 6 1 2 6 1 6 1 0 6 4 5 7 1 1 1 2 6 0 1 6 0 2 2 1 0 2 1 0 6 1 0 9 2 2 0 0 2 2 1 0 1 2 2 1 5 2 6 2 0 6 6 2 2 2 2 2 0 6 0 6 2 0 6 1 2 1 2 6 2 1 4 1 2 1 2 2 2 6 2 2 1 6 6 2 9 0\n",
            " 2 2 1 5 1 2 1 2 2 7 5 0 1 6 1 7 1 6 6 0 1 1 1 4 0 1 1 0 6 6 1 1 6 6 0 2 1 1 1 6 5 0 6 1 6 6 2 2 7 0 2 2 1 0 2 6 2 6 2 2 2 2 2 2 2 2 7 1 2 1 2 1 2 2 6 0 1 1 2 2 6 6 2 0 1 1 1 1 1\n",
            " 1 1 1 2 6 6 1 1 9 6 2 2 2 7 0 2 9 1 2 2 7 1 6 6 2 7 1 2 7 5 0 6 6 7 2 2 0 1 6 2 9 6 2 6 0 2 0 6 2 6 1 1 1 2 1 7 2 2 0 1 2 5 2 2 2 1 2 2 2 5 6 1 1 2 2 1 1 1 2 2 1 1 2 2 2 1 0 6 1\n",
            " 5 2 2 2 6 1 2 2 7 1 6 5 2 2 2 2 1 1 1 2 2 2 5 6 1 1 0 2 6 5 1 7 2 2 7 2 0 1 7 2 2 6 1 1 2 5 0 1 2 6 2 2 6 2 0 2 6 1 2 6 0 2 7 1 1 2 0 6 2 6 2 1 1 6 2 2 2 6 6 2 2 6 2 7 0 7 6 0 0\n",
            " 1 7 2 2 2 2 2 1 2 6 2 2 5 1 2 1 1 6 6 2 1 2 1 2 0 1 1 7 2 1 1 6 6 2 1 1 6 1 5 9 2 1 0 0 2 0 0 0 2 1 0 2 6 0 2 0 2 1 2 1 7 2 1 2 6 1 2 1 0 2 2 6 6 0 6 2 1 2 1 2 2 6 6 2 1 2 1 1 1\n",
            " 1 2 1 2 6]\n",
            "\n",
            "Real values:  [6 9 3 7 2 1 5 2 5 2 1 9 4 0 4 2 3 7 8 8 4 3 9 7 5 6 3 5 6 3 4 9 1 4 4 6 9 4 7 6 6 9 1 3 6 1 3 0 6 5 5 1 9 5 6 0 9 0 0 1 0 4 5 2 4 5 7 0 7 5 9 5 5 4 7 0 4 5 5 9 9 0 2 3 8 0 6 4 4\n",
            " 9 1 2 8 3 5 2 9 0 4 4 4 3 5 3 1 3 5 9 4 2 7 7 4 4 1 9 2 7 8 7 2 6 9 4 0 7 2 7 5 8 7 5 7 7 0 6 6 4 2 8 0 9 4 6 9 9 6 9 0 3 5 6 6 0 6 4 3 9 3 9 7 2 9 0 4 5 3 6 5 9 9 8 4 2 1 3 7 7\n",
            " 2 2 3 9 8 0 3 2 2 5 6 9 9 4 1 5 4 2 3 6 4 8 5 9 5 7 8 9 4 8 1 5 4 4 9 6 1 8 6 0 4 5 2 7 4 6 4 5 6 0 3 2 3 6 7 1 5 1 4 7 6 8 8 5 5 1 6 2 8 8 9 9 7 6 2 2 2 3 4 8 8 3 6 0 9 7 7 0 1\n",
            " 0 4 5 1 5 3 6 0 4 1 0 0 3 6 5 9 7 3 5 5 9 9 8 5 3 3 2 0 5 8 3 4 0 2 4 6 4 3 4 5 0 5 2 1 3 1 4 1 1 7 0 1 5 2 1 2 8 7 0 6 4 8 8 5 1 8 4 5 8 7 9 8 5 0 6 2 0 7 9 8 9 5 2 7 7 1 8 7 4\n",
            " 3 8 3 5 6 0 0 3 0 5 0 0 4 1 2 8 4 5 9 6 3 1 8 8 4 2 3 8 9 8 8 5 0 6 3 3 7 1 6 4 1 2 1 1 6 4 7 4 8 3 4 0 5 1 9 4 5 7 6 3 7 0 5 9 7 5 9 7 4 2 1 9 0 7 5 3 3 6 3 9 6 9 5 0 1 5 5 8 3\n",
            " 3 6 2 6 5]\n",
            "\n",
            "The r^2 score is\t -0.8652392051551512\n",
            "\n",
            "The mean absolute error on the training set is\t 3.234595397178916\n",
            "\n",
            "The predicted y values for the test set are\t [2 1 1 6 1 2 6 1 6 1 0 6 4 5 7 1 1 1 2 6 0 1 6 0 2 2 1 0 2 1 0 6 1 0 9 2 2 0 0 2 2 1 0 1 2 2 1 5 2 6 2 0 6 6 2 2 2 2 2 0 6 0 6 2 0 6 1 2 1 2 6 2 1 4 1 2 1 2 2 2 6 2 2 1 6 6 2 9 0\n",
            " 2 2 1 5 1 2 1 2 2 7 5 0 1 6 1 7 1 6 6 0 1 1 1 4 0 1 1 0 6 6 1 1 6 6 0 2 1 1 1 6 5 0 6 1 6 6 2 2 7 0 2 2 1 0 2 6 2 6 2 2 2 2 2 2 2 2 7 1 2 1 2 1 2 2 6 0 1 1 2 2 6 6 2 0 1 1 1 1 1\n",
            " 1 1 1 2 6 6 1 1 9 6 2 2 2 7 0 2 9 1 2 2 7 1 6 6 2 7 1 2 7 5 0 6 6 7 2 2 0 1 6 2 9 6 2 6 0 2 0 6 2 6 1 1 1 2 1 7 2 2 0 1 2 5 2 2 2 1 2 2 2 5 6 1 1 2 2 1 1 1 2 2 1 1 2 2 2 1 0 6 1\n",
            " 5 2 2 2 6 1 2 2 7 1 6 5 2 2 2 2 1 1 1 2 2 2 5 6 1 1 0 2 6 5 1 7 2 2 7 2 0 1 7 2 2 6 1 1 2 5 0 1 2 6 2 2 6 2 0 2 6 1 2 6 0 2 7 1 1 2 0 6 2 6 2 1 1 6 2 2 2 6 6 2 2 6 2 7 0 7 6 0 0\n",
            " 1 7 2 2 2 2 2 1 2 6 2 2 5 1 2 1 1 6 6 2 1 2 1 2 0 1 1 7 2 1 1 6 6 2 1 1 6 1 5 9 2 1 0 0 2 0 0 0 2 1 0 2 6 0 2 0 2 1 2 1 7 2 1 2 6 1 2 1 0 2 2 6 6 0 6 2 1 2 1 2 2 6 6 2 1 2 1 1 1\n",
            " 1 2 1 2 6]\n",
            "The real y values for the test set are\t [6 9 3 7 2 1 5 2 5 2 1 9 4 0 4 2 3 7 8 8 4 3 9 7 5 6 3 5 6 3 4 9 1 4 4 6 9 4 7 6 6 9 1 3 6 1 3 0 6 5 5 1 9 5 6 0 9 0 0 1 0 4 5 2 4 5 7 0 7 5 9 5 5 4 7 0 4 5 5 9 9 0 2 3 8 0 6 4 4\n",
            " 9 1 2 8 3 5 2 9 0 4 4 4 3 5 3 1 3 5 9 4 2 7 7 4 4 1 9 2 7 8 7 2 6 9 4 0 7 2 7 5 8 7 5 7 7 0 6 6 4 2 8 0 9 4 6 9 9 6 9 0 3 5 6 6 0 6 4 3 9 3 9 7 2 9 0 4 5 3 6 5 9 9 8 4 2 1 3 7 7\n",
            " 2 2 3 9 8 0 3 2 2 5 6 9 9 4 1 5 4 2 3 6 4 8 5 9 5 7 8 9 4 8 1 5 4 4 9 6 1 8 6 0 4 5 2 7 4 6 4 5 6 0 3 2 3 6 7 1 5 1 4 7 6 8 8 5 5 1 6 2 8 8 9 9 7 6 2 2 2 3 4 8 8 3 6 0 9 7 7 0 1\n",
            " 0 4 5 1 5 3 6 0 4 1 0 0 3 6 5 9 7 3 5 5 9 9 8 5 3 3 2 0 5 8 3 4 0 2 4 6 4 3 4 5 0 5 2 1 3 1 4 1 1 7 0 1 5 2 1 2 8 7 0 6 4 8 8 5 1 8 4 5 8 7 9 8 5 0 6 2 0 7 9 8 9 5 2 7 7 1 8 7 4\n",
            " 3 8 3 5 6 0 0 3 0 5 0 0 4 1 2 8 4 5 9 6 3 1 8 8 4 2 3 8 9 8 8 5 0 6 3 3 7 1 6 4 1 2 1 1 6 4 7 4 8 3 4 0 5 1 9 4 5 7 6 3 7 0 5 9 7 5 9 7 4 2 1 9 0 7 5 3 3 6 3 9 6 9 5 0 1 5 5 8 3\n",
            " 3 6 2 6 5]\n",
            "\n",
            "The mean absolute error on the test set is\t 3.1644444444444444 \n",
            "\n"
          ]
        }
      ]
    }
  ]
}